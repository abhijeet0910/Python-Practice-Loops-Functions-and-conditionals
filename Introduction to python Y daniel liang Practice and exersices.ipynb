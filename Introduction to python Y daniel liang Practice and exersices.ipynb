{
 "cells": [
  {
   "cell_type": "code",
   "execution_count": null,
   "metadata": {},
   "outputs": [],
   "source": [
    "# Simultaneous Assignment\n",
    "number1, number2, number3 = eval(input(\"enter the three numbers separated by commas: \"))\n"
   ]
  },
  {
   "cell_type": "code",
   "execution_count": null,
   "metadata": {},
   "outputs": [],
   "source": [
    "\n",
    "average = (number1 + number2 + number3)/3"
   ]
  },
  {
   "cell_type": "code",
   "execution_count": null,
   "metadata": {},
   "outputs": [],
   "source": [
    "average\n"
   ]
  },
  {
   "cell_type": "code",
   "execution_count": null,
   "metadata": {},
   "outputs": [],
   "source": [
    "# using time function\n",
    "# develop a program to show current time in greenwich mean time\n",
    "import time\n",
    "\n",
    "current_time = time.time()\n"
   ]
  },
  {
   "cell_type": "code",
   "execution_count": null,
   "metadata": {},
   "outputs": [],
   "source": [
    "current_time"
   ]
  },
  {
   "cell_type": "code",
   "execution_count": null,
   "metadata": {},
   "outputs": [],
   "source": [
    "total_seconds = int(current_time)"
   ]
  },
  {
   "cell_type": "code",
   "execution_count": null,
   "metadata": {},
   "outputs": [],
   "source": [
    "total_seconds"
   ]
  },
  {
   "cell_type": "code",
   "execution_count": null,
   "metadata": {},
   "outputs": [],
   "source": [
    "current_sec = total_seconds % 60"
   ]
  },
  {
   "cell_type": "code",
   "execution_count": null,
   "metadata": {},
   "outputs": [],
   "source": [
    "current_sec"
   ]
  },
  {
   "cell_type": "code",
   "execution_count": null,
   "metadata": {},
   "outputs": [],
   "source": [
    "total_min = total_seconds // 60"
   ]
  },
  {
   "cell_type": "code",
   "execution_count": null,
   "metadata": {},
   "outputs": [],
   "source": [
    "total_min"
   ]
  },
  {
   "cell_type": "code",
   "execution_count": null,
   "metadata": {},
   "outputs": [],
   "source": [
    "current_min = total_min % 60"
   ]
  },
  {
   "cell_type": "code",
   "execution_count": null,
   "metadata": {},
   "outputs": [],
   "source": [
    "current_min\n"
   ]
  },
  {
   "cell_type": "code",
   "execution_count": null,
   "metadata": {},
   "outputs": [],
   "source": [
    "total_hours = total_min //60"
   ]
  },
  {
   "cell_type": "code",
   "execution_count": null,
   "metadata": {},
   "outputs": [],
   "source": [
    "total_hours"
   ]
  },
  {
   "cell_type": "code",
   "execution_count": null,
   "metadata": {},
   "outputs": [],
   "source": [
    "current_hr = total_hours% 24"
   ]
  },
  {
   "cell_type": "code",
   "execution_count": null,
   "metadata": {},
   "outputs": [],
   "source": [
    "current_hr"
   ]
  },
  {
   "cell_type": "code",
   "execution_count": null,
   "metadata": {},
   "outputs": [],
   "source": [
    "10//2"
   ]
  },
  {
   "cell_type": "code",
   "execution_count": null,
   "metadata": {},
   "outputs": [],
   "source": [
    "10 /2"
   ]
  },
  {
   "cell_type": "code",
   "execution_count": null,
   "metadata": {},
   "outputs": [],
   "source": [
    "20//4"
   ]
  },
  {
   "cell_type": "code",
   "execution_count": null,
   "metadata": {},
   "outputs": [],
   "source": [
    "20/4"
   ]
  },
  {
   "cell_type": "code",
   "execution_count": null,
   "metadata": {},
   "outputs": [],
   "source": [
    "# convert pound into kilograms\n",
    "pound1 = int(input(\"enter the value in pounds:\"))\n",
    "\n",
    "kilograms = pound1 * 0.454\n",
    "\n",
    "print(pound1, \"is\", kilograms, \"kilograms\")"
   ]
  },
  {
   "cell_type": "code",
   "execution_count": null,
   "metadata": {},
   "outputs": [],
   "source": [
    "# 2.11 initial deposit amount\n",
    "\n",
    "final_amt = int(input(\"Enter the final amount value: \"))\n",
    "annual_int = eval(input(\"Enter the annual interest rate in precent:\"))\n",
    "num_yrs = int(input(\"Enter number of years:\"))\n",
    "\n",
    "mnthly_int = annual_int/12\n",
    "print(mnthly_int)\n",
    "\n",
    "initial_deposit = final_amt/((1+mnthly_int)**num_yrs)\n",
    "\n",
    "print(mnthly_int,initial_deposit)"
   ]
  },
  {
   "cell_type": "code",
   "execution_count": null,
   "metadata": {},
   "outputs": [],
   "source": [
    "print(\"a   b   power(a,b)\")\n",
    "print(\"1   1    \",(1**1))\n",
    "print(\"2   3    \",(2**3))\n",
    "print(\"4   5    \",(4**5))\n",
    "print(\"3   4    \",(3**4))"
   ]
  },
  {
   "cell_type": "code",
   "execution_count": null,
   "metadata": {},
   "outputs": [],
   "source": [
    "#exersice 2.13\n",
    "num_rev = int(input(\"enter a four digit number: \"))\n",
    "print(\"digit1:\",num_rev//1000)\n",
    "num_rev1 = num_rev//100\n",
    "print(\"digit2:\",num_rev1%10)\n",
    "num_rev2 = num_rev//10\n",
    "print(\"digit3:\",num_rev2%10)\n",
    "print(\"digit4:\", num_rev%10)"
   ]
  },
  {
   "cell_type": "code",
   "execution_count": null,
   "metadata": {},
   "outputs": [],
   "source": [
    "(50.9 - 5.5)/4.5"
   ]
  },
  {
   "cell_type": "code",
   "execution_count": null,
   "metadata": {},
   "outputs": [],
   "source": [
    "import time\n",
    "\n",
    "timezone_offset = eval(input(\"Enter the timezone offset to GMT:\"))\n",
    "\n",
    "currenttime = time.time() # to get the current time\n",
    "\n",
    "#print(currenttime)\n",
    "\n",
    "total_sec = int(currenttime)\n",
    "\n",
    "current_sec = total_sec % 60\n",
    "\n",
    "#print(current_sec)\n",
    "\n",
    "total_mins = total_sec // 60\n",
    "\n",
    "#print(total_mins)\n",
    "\n",
    "current_min = total_mins%60\n",
    "\n",
    "#print(current_min)\n",
    "\n",
    "total_hrs = total_mins//60\n",
    "\n",
    "#print(total_hrs)\n",
    "# current hr should be added with the offset \n",
    "\n",
    "current_hrs = (total_hrs + timezone_offset) % 24\n",
    "\n",
    "#print(current_hrs)\n",
    "\n",
    "current_time = print(current_hrs, \":\", current_min,\":\", current_sec)\n",
    "\n",
    "        \n",
    "\n",
    "\n",
    "\n"
   ]
  },
  {
   "cell_type": "code",
   "execution_count": null,
   "metadata": {},
   "outputs": [],
   "source": [
    "# chap 3 Mathematical functions, strings and objects"
   ]
  },
  {
   "cell_type": "code",
   "execution_count": null,
   "metadata": {},
   "outputs": [],
   "source": [
    "import math\n",
    "#test algeabric functions\n",
    "# syntax would be \"math.\" followed by the function\n",
    "\n",
    "print(\"exp(1.0)=\", math.exp(1))\n",
    "print(\"log(2.78)=\", math.log(math.e))\n",
    "print(\"log(10, 10)=\", math.log(10, 10))\n",
    "print(\"sqrt(4.0)=\", math.sqrt(4.0))"
   ]
  },
  {
   "cell_type": "code",
   "execution_count": null,
   "metadata": {},
   "outputs": [],
   "source": [
    "letter = \"A\"\n",
    "numchar = \"4\" # very important thing\n",
    "word = \"Good Morning\"\n",
    "#The first statement assigns a string with the character A to the variable letter. The second\n",
    "#statement assigns a string with the digit character 4 to the variable numChar. The third\n",
    "#statement assigns the string Good morning to the variable message"
   ]
  },
  {
   "cell_type": "code",
   "execution_count": null,
   "metadata": {},
   "outputs": [],
   "source": [
    "# use of argument \"end\" in print.\n",
    "\n",
    "print(\"Abhijeet\", end=\"**\")\n",
    "print (\"Rathore\", end=\"....\" )\n",
    "# we can see the difference"
   ]
  },
  {
   "cell_type": "code",
   "execution_count": null,
   "metadata": {},
   "outputs": [],
   "source": [
    "#use the end argument for printing multiple items\n",
    "radius = 3 \n",
    "print (\"the area is\", radius*radius*math.pi, end =\" \")\n",
    "print(\"and the perimeter is\", 2*radius)\n"
   ]
  },
  {
   "cell_type": "code",
   "execution_count": null,
   "metadata": {},
   "outputs": [],
   "source": [
    "message = \"welcome to Python\""
   ]
  },
  {
   "cell_type": "code",
   "execution_count": null,
   "metadata": {},
   "outputs": [],
   "source": [
    "message\n"
   ]
  },
  {
   "cell_type": "code",
   "execution_count": null,
   "metadata": {},
   "outputs": [],
   "source": [
    "# concatenation of string\n",
    "message += \" and python is fun\""
   ]
  },
  {
   "cell_type": "code",
   "execution_count": null,
   "metadata": {},
   "outputs": [],
   "source": [
    "message"
   ]
  },
  {
   "cell_type": "code",
   "execution_count": null,
   "metadata": {},
   "outputs": [],
   "source": [
    "# chapter 3 practice exersices\n",
    "#3.8\n",
    "x = input(\"Enter a character:\")\n",
    "o_r = ord(x)\n",
    "print(o_r)\n",
    "print(o_r + 3)\n",
    "ch = chr(ord(x)+3)\n",
    "print (ch)"
   ]
  },
  {
   "cell_type": "code",
   "execution_count": null,
   "metadata": {},
   "outputs": [],
   "source": [
    "sum = 2 + 3\n",
    "s = '2' + '3'\n",
    "s"
   ]
  },
  {
   "cell_type": "code",
   "execution_count": null,
   "metadata": {},
   "outputs": [],
   "source": [
    "sum"
   ]
  },
  {
   "cell_type": "code",
   "execution_count": null,
   "metadata": {},
   "outputs": [],
   "source": [
    "amount = 11.56\n",
    "\n",
    "cents =  amount *100\n",
    "int(cents)\n",
    "cents//100\n",
    "rem_amt = cents%100\n",
    "rem1 = rem_amt //25\n",
    "\n",
    "rem_amt%25"
   ]
  },
  {
   "cell_type": "code",
   "execution_count": null,
   "metadata": {},
   "outputs": [],
   "source": [
    "# 3.1\n",
    "\n",
    "import math\n",
    "\n",
    "x1,y1 = eval(input(\"enter the the lattitude and longitude:\"))\n",
    "x2,y2 = eval(input(\"enter the lattitude and longitude for the second:\"))\n",
    "\n",
    "d = 6371.01 * math.acos(math.sin(math.radians(x1)) * math.sin(math.radians(x2)) + math.cos(math.radians(x1)) * math.cos(math.radians(x2)) * \n",
    "      math.cos(math.radians(y1 - y2)));\n",
    "\n",
    "print(d)\n",
    "\n"
   ]
  },
  {
   "cell_type": "code",
   "execution_count": null,
   "metadata": {},
   "outputs": [],
   "source": [
    "import random\n",
    "number1 = random.randint(0,9)\n",
    "number2 = random.randint(0,9)\n",
    "\n",
    "answer = eval(input(\"what is\" + str(number1) + \"+\" + str(number2) + \"?\"))\n",
    "print(number1, \"+\", number2, \"=\" ,answer ,\"is\" ,number1 + number2 == answer)"
   ]
  },
  {
   "cell_type": "code",
   "execution_count": null,
   "metadata": {},
   "outputs": [],
   "source": [
    "uestion1 = \"Is your birthday in Set1?\\n\" +\n",
    "  \" 1 3 5 7\\n\" + \\\n",
    "  \" 9 11 13 15\\n\" + \\\n",
    "  \"17 19 21 23\\n\" + \\\n",
    "  \"25 27 29 31\" + \\\n",
    "  \"\\nEnter 0 for No and 1 for Yes: \"\n",
    "   answer = eval(input(question1))\n",
    "  \n",
    "   if :\n",
    "   day += 1\n",
    "\n",
    "   # Prompt the user to answer the second question\n",
    "   question2 = \"Is your birthday in Set2?\\n\" +\n",
    "   \" 2 3 6 7\\n\" + \\\n",
    "   \"10 11 14 15\\n\" + \\\n",
    "   \"18 19 22 23\\n\" + \\\n",
    "   \"26 27 30 31\" + \\\n",
    "   \"\\nEnter 0 for No and 1 for Yes: \"\n",
    "   answer = eval(input(question2))\n",
    "\n",
    "   if :\n",
    "   day += 2\n",
    "  \n",
    "   # Prompt the user to answer the third question\n",
    "   question3 = \"Is your birthday in Set3?\\n\" + \\\n",
    "   \" 4 5 6 7\\n\" + \\\n",
    "   \"12 13 14 15\\n\" + \\\n",
    "   \"20 21 22 23\\n\" + \\\n",
    "   \"28 29 30 31\" + \\\n",
    "   \"\\nEnter 0 for No and 1 for Yes: \"\n",
    "   answer = eval(input(question3))\n"
   ]
  },
  {
   "cell_type": "code",
   "execution_count": null,
   "metadata": {},
   "outputs": [],
   "source": [
    "#Suppose you want to develop a program for a first grader to practice subtraction. The program\n",
    "#randomly generates two single-digit integers, number1 and number2, with number1\n",
    "#>= number2 and asks the student a question such as \"What is 9 – 2? \" After the student\n",
    "#enters the answer, the program displays a message indicating whether it is correct.\n",
    "#subraction between two numers\n",
    "\n",
    "import random\n",
    "\n",
    "number1 = random.randint(0,9)\n",
    "number2 = random.randint(0,9)\n",
    "\n",
    "if number1 < number2:\n",
    "    number1, number2 = number2, number1\n",
    "    \n",
    "answer = eval(input(    \"what is\" + str(number1)+ \"-\" + str(number2) + \"?\"  ))\n",
    "\n",
    "if number1-number2 == answer:\n",
    "    print(\"you are correct!\")\n",
    "else:\n",
    "    print(\"your answer is wrong!\\n\", number1,\"-\" ,number2, \"is\", number1 - number2 )\n",
    "    \n",
    "\n"
   ]
  },
  {
   "cell_type": "code",
   "execution_count": null,
   "metadata": {},
   "outputs": [],
   "source": [
    "#Write an if statement that increases pay by 3% if score is greater than 90, otherwise\n",
    "#it increases pay by 1%.\n",
    "\n",
    "pay = int(input(\"what is your pay in thousands:\"))\n",
    "\n",
    "if pay > 90:\n",
    "    new_pay = pay + pay*3/100\n",
    "else:\n",
    "    new_pay = pay + pay*1/100\n",
    "print(\"Your original pay was\", pay, \"your new pay is\", new_pay)"
   ]
  },
  {
   "cell_type": "code",
   "execution_count": null,
   "metadata": {},
   "outputs": [],
   "source": [
    "score = int(input(\"Enter your score to know the grade:\"))\n",
    "if score >= 60.0:\n",
    "    print(\"grade = 'D'\")\n",
    "elif score >= 70.0:\n",
    "    grade = 'C'\n",
    "elif score >= 80.0:\n",
    "    grade = 'B'\n",
    "elif score >= 90.0:\n",
    "    grade = 'A'\n",
    "else:\n",
    "    grade = 'F'"
   ]
  },
  {
   "cell_type": "code",
   "execution_count": null,
   "metadata": {},
   "outputs": [],
   "source": [
    "#Write a program that prompts the user to enter a weight in pounds and height in inches and\n",
    "#then displays the BMI. Note that one pound is 0.45359237 kilograms and one inch is\n",
    "#0.0254 meters. Listing 4.6 gives the program.\n",
    "\n",
    "weight = eval(input(\"enter the weight in pounds: \"))\n",
    "\n",
    "height = eval(input(\"entre the height in inches: \"))\n",
    "\n",
    "kilograms_per_pound = 0.45359237\n",
    "meters_per_inch = 0.0254\n",
    "\n",
    "#bmi computation\n",
    "weight_in_kg = weight * kilograms_per_pound\n",
    "height_in_metres = height * meters_per_inch\n",
    "\n",
    "bmi = weight_in_kg/(height_in_metres * height_in_metres)\n",
    "\n",
    "print(\"BMI is\", format(bmi, \".2f\"))\n",
    "      \n",
    "if bmi < 18.5:\n",
    "      print(\"underweight\")\n",
    "elif bmi < 25:\n",
    "      print(\"normal\")\n",
    "elif bmi < 30:\n",
    "      print (\"overweight\")\n",
    "else:\n",
    "      print(\"obese\")\n",
    "      \n",
    "      "
   ]
  },
  {
   "cell_type": "code",
   "execution_count": null,
   "metadata": {},
   "outputs": [],
   "source": [
    "import sys \n",
    "#The sys module provides information about constants, functions and methods of the Python interpreter. \n",
    "#dir(system) gives a summary of the available constants, functions and methods. Another possibility is the help() function.\n",
    "#Using help(sys) provides valuable detail information.\n",
    "\n",
    "# ask to enter filling status\n",
    "status = eval(input(\"(0-single filler, 1-married jointly,\\n\" + \"2-married separately, 3-head of household)\\n\" \n",
    "                    + \"enter the filling status: \"))\n",
    "# ask to entre the income\n",
    "income = int(input(\"Enter the taxable income: \"))\n",
    "    \n",
    "# we nned to create variable called to compute the value of tax\n",
    "tax = 0\n",
    "\n",
    "if status == 0:\n",
    "    if income <= 8350:\n",
    "        tax = income * 0.10\n",
    "    elif income <= 33950:\n",
    "        tax = 8350* 0.10 + (income - 8350)*0.15\n",
    "    elif income <= 82250:\n",
    "        tax = 8350 * .10 + (33950 - 8350)*0.15 + (income - 33950) * 0.25\n",
    "    elif income < 171550:\n",
    "        tax = 8350 * .10 + (33950 - 8350)*0.15 + (82250 - 33950) * 0.25 + (income - 82250)*0.28\n",
    "    elif income <= 372950:\n",
    "        tax = 8350 * 0.10 + (33950 - 8350) * 0.15 + (82250 - 33950) * 0.25 + (171550 - 82250) * 0.28 + (income - 171550) * 0.33\n",
    "    else:\n",
    "        tax = 8350 * 0.10 + (33950 - 8350) * 0.15 + (82250 - 33950) * 0.25 + (171550 - 82250) * 0.28 + (372950 - 171550) * 0.33 + (income - 372950) * 0.35;\n",
    "elif status == 1:\n",
    "    print(\"Left as exercise\")\n",
    "elif status == 2: # Compute tax for married separately\n",
    "    print(\"Left as exercise\")\n",
    "elif status == 3: # Compute tax for head of household\n",
    "    print(\"Left as exercise\")\n",
    "else:\n",
    "    print(\"Error: invalid status\")\n",
    "    sys.exit()\n",
    "print(\"Tax is\", format(tax, \".2f\"))"
   ]
  },
  {
   "cell_type": "code",
   "execution_count": null,
   "metadata": {},
   "outputs": [],
   "source": [
    "#The rule for leap years is, every fourth year is a leap year, unless the year is divisible by 100, \n",
    "#unless the year is divisible by 400.\n",
    "#So, 1980 was a leap year, 1900 was not, but 2000 was.\n",
    "\n",
    "# compute leap year\n",
    "# take iinput from the user\n",
    "year = int(input(\"enter the year: \"))\n",
    "\n",
    "if (year % 4 == 0 and year % 100 != 0) or (year % 400 == 0):\n",
    "    print (year, \"year is a leap year\" )\n",
    "else:\n",
    "    print(\"not a leap year\")"
   ]
  },
  {
   "cell_type": "markdown",
   "metadata": {},
   "source": [
    "### "
   ]
  },
  {
   "cell_type": "code",
   "execution_count": null,
   "metadata": {},
   "outputs": [],
   "source": [
    "# Loops\n",
    "# While loops\n",
    "# repeat Substraction \n",
    "import random\n",
    "\n",
    "number1 = random.randint(0,50)\n",
    "number2 = random.randint(0,50)\n",
    "\n",
    "if number1< number2:\n",
    "    number1, number2 = number2 , number1\n",
    "\n",
    "answer = eval(input(\"What is \" + str(number1) + \"-\" +str(number2) + \"  ?\"))\n",
    "while number1 - number2 != answer:\n",
    "    answer = eval(input(\"wrong answer. Try again! \" \"What is \" +     str(number1) + \"-\" +str(number2) + \" ?  \"))\n",
    "print (\"you got it\")"
   ]
  },
  {
   "cell_type": "code",
   "execution_count": null,
   "metadata": {},
   "outputs": [],
   "source": [
    "#program to guess the magic number randomly generated by the computer.\n",
    "\n",
    "#magic_number = random.randint(0,100)\n",
    " \n",
    "#guess = eval(input(\"Enter your guess a number between 0 to 100 inclusive\"))\n",
    "\n",
    "#if guess > magic_number:\n",
    "   # print(\"Guess is too high\")\n",
    "#elif guess < magic_number:\n",
    "    #print(\"Guess is too low\")\n",
    "\n",
    "#while guess != magic_number:\n",
    "   # guess = eval(input(\"Try Again\" +\"Enter your guess a number between 0 to 100 inclusive\"))\n",
    "#print(\"you got it\")"
   ]
  },
  {
   "cell_type": "code",
   "execution_count": null,
   "metadata": {},
   "outputs": [],
   "source": [
    "# correct way to write this code is \n",
    "import random\n",
    "# randomly generate magic number to guess?\n",
    "magic_number = random.randint(0,50)\n",
    "\n",
    "print(\"Guess a magic number between 0 - 50\")\n",
    "guess = -1\n",
    "guess = eval(input(\"Enter your a number between 0 - 50 \" + \"-\"))\n",
    "\n",
    "# ask user to enter his guess with loop until hhe gets it right.\n",
    "while guess != magic_number:\n",
    "    \n",
    "    guess = eval(input(\"Enter your a number between 0 - 50 \" ))\n",
    "    \n",
    "    if guess == magic_number:\n",
    "        print(\"Guess is right\")\n",
    "    elif guess < magic_number:\n",
    "        print (\"guess is too low\")\n",
    "    else:\n",
    "        print(\"guess is too high\")"
   ]
  },
  {
   "cell_type": "code",
   "execution_count": null,
   "metadata": {},
   "outputs": [],
   "source": []
  },
  {
   "cell_type": "code",
   "execution_count": null,
   "metadata": {},
   "outputs": [],
   "source": [
    "# A program that generates five questions of substraction and after a student answers all of them, \n",
    "# reports the number of correct answers. The program also displays the time spent on the test.\n",
    "\n",
    "import random\n",
    "import time\n",
    "\n",
    "correctans = 0\n",
    "count = 0\n",
    "number_of_questions = 5\n",
    "\n",
    "starttime = time.time()\n",
    "\n",
    "continuel ='y'\n",
    "\n",
    "\n",
    "while count < number_of_questions:\n",
    "    \n",
    "    while continuel == 'y':\n",
    "        \n",
    "        #generate two numbers\n",
    "        number1 = random.randint(0,50)\n",
    "        number2 = random.randint(0,50)\n",
    "    \n",
    "        if number2 > number1:\n",
    "            number1 , number2 = number2, number1\n",
    "        answer = eval(input(\"what is \" + str(number1)+ \"-\" +str(number2) + \" ?\"))\n",
    "    \n",
    "        if number1 - number2 == answer:\n",
    "            print(\"you are correct\")\n",
    "            correctans +=1\n",
    "        else:\n",
    "            print(\"your answer is wrong\\n\", \"number1 - number2 is\", number1 - number2)\n",
    "        \n",
    "        count +=1\n",
    "    \n",
    "    \n",
    "        continuel = input(\"Enter y to continue and n to quit: \")\n",
    "    break\n",
    "    \n",
    "endtime = time.time()\n",
    "testtime = int(endtime-starttime)\n",
    "print(\"the time in seconds is -\",testtime, \"seconds\")\n",
    "print(\"number of questions answered correctly are\", correctans,\"/\",number_of_questions)"
   ]
  },
  {
   "cell_type": "code",
   "execution_count": null,
   "metadata": {},
   "outputs": [],
   "source": [
    "# Controlling loop with a sentinel value\n",
    "\n",
    "data = eval(input(\"Enter an integer(the input ends\"+\"if it is 0):\"))\n",
    "#keep reading the data until the input is 0\n",
    "\n",
    "sum = 0\n",
    "while data != 0:\n",
    "    sum += data\n",
    "    \n",
    "    data = eval(input(\"Enter an integer(the input ends\"+\"if it is 0):\"))\n",
    "print(\"The sum is\", sum)"
   ]
  },
  {
   "cell_type": "code",
   "execution_count": null,
   "metadata": {},
   "outputs": [],
   "source": [
    "# what is wrong with code exersice\n",
    "count = 0\n",
    "while count < 100:\n",
    "    print(count) # this will be an infinite loop\n",
    "    \n",
    "    \n",
    "    "
   ]
  },
  {
   "cell_type": "code",
   "execution_count": null,
   "metadata": {},
   "outputs": [],
   "source": [
    "count = 0\n",
    "while count < 100:\n",
    "    print(count)\n",
    "    count -=1 # this will also be an infite loop"
   ]
  },
  {
   "cell_type": "code",
   "execution_count": null,
   "metadata": {},
   "outputs": [],
   "source": [
    "count = 0\n",
    "while count<100:\n",
    "    \n",
    "count += 1   # indentation error"
   ]
  },
  {
   "cell_type": "code",
   "execution_count": null,
   "metadata": {},
   "outputs": [],
   "source": [
    "# convert the for loop into while loop\n",
    "sum = 0\n",
    "for i in range(1001):\n",
    "    sum = sum+i\n",
    "print(sum)"
   ]
  },
  {
   "cell_type": "code",
   "execution_count": null,
   "metadata": {},
   "outputs": [],
   "source": [
    "i = 0\n",
    "sum = 0\n",
    "while i < 1001:\n",
    "    sum = sum + i\n",
    "    i+= 1\n",
    "print (sum)\n"
   ]
  },
  {
   "cell_type": "code",
   "execution_count": null,
   "metadata": {},
   "outputs": [],
   "source": [
    "i = 1\n",
    "sum = 0\n",
    "\n",
    "while sum <10000:\n",
    "    sum = sum + i\n",
    "    i +=1\n",
    "print(sum)"
   ]
  },
  {
   "cell_type": "code",
   "execution_count": null,
   "metadata": {},
   "outputs": [],
   "source": [
    "i = 1\n",
    "sum = 0\n",
    "for i in range(10000):\n",
    "    sum = i\n",
    "    i +=1\n",
    "print(sum)"
   ]
  },
  {
   "cell_type": "code",
   "execution_count": null,
   "metadata": {},
   "outputs": [],
   "source": [
    "#multiplication Table\n",
    "\n",
    "print(\"  |\" , end = '')\n",
    "for j in range(1, 10):\n",
    "    print(\" \",j, end =\" \",) # first space the print for the space between numbers\n",
    "                            # end =\" \" is for so that numbers get placed side by side because print ends with newline\n",
    "                            # j in loop will print the numbers\n",
    "print()\n",
    "print('-----------------------------------------')\n",
    "for i in range(1, 10):\n",
    "    print(i,\"|\", end = \"\")\n",
    "    for j in range(1, 10):\n",
    "        print( format(i*j, \"4d\"), end = '')\n",
    "    print()"
   ]
  },
  {
   "cell_type": "code",
   "execution_count": null,
   "metadata": {},
   "outputs": [],
   "source": [
    "print(\"python\" )"
   ]
  },
  {
   "cell_type": "code",
   "execution_count": null,
   "metadata": {},
   "outputs": [],
   "source": [
    "for i in range(1, 10):\n",
    "    print(i,\"|\", end = \"@\")"
   ]
  },
  {
   "cell_type": "code",
   "execution_count": null,
   "metadata": {},
   "outputs": [],
   "source": [
    "for j in range(1, 10):\n",
    "        print( format(j, \"4d\"), end = '@')"
   ]
  },
  {
   "cell_type": "code",
   "execution_count": null,
   "metadata": {},
   "outputs": [],
   "source": [
    "for i in range(1, 2):\n",
    "    print(i,\"|\", end = \"\")\n",
    "    for j in range(1, 4):\n",
    "        print( format(i*j, \"4d\"), end = '')\n",
    "    print()\n",
    "        "
   ]
  },
  {
   "cell_type": "code",
   "execution_count": null,
   "metadata": {},
   "outputs": [],
   "source": [
    "# above the loop is working in this way\n",
    "# when the value of i is one it will print 1 | first\n",
    "# with the steady value of i = 1 loop will go into the for loop with \"j\"\n",
    "# and it will print in this way\n",
    "# for i = 1 it will i*j = 1x1, 1x2, 1x3\n",
    "# final print would be all the value will be besides the first loop's print because the first loop's print has an end argument\n"
   ]
  },
  {
   "cell_type": "code",
   "execution_count": null,
   "metadata": {},
   "outputs": [],
   "source": [
    "# example without the end  argument same loop\n",
    "for i in range(1, 2):\n",
    "    print(i,\"|\")\n",
    "    for j in range(1, 4):\n",
    "        print( format(i*j, \"4d\"), end = '')\n",
    "    print()\n",
    "    \n",
    "#we can see that"
   ]
  },
  {
   "cell_type": "code",
   "execution_count": null,
   "metadata": {},
   "outputs": [],
   "source": [
    "# if i dont put an end in the second loop also\n",
    "for i in range(1, 2):\n",
    "    print(i,\"|\")\n",
    "    for j in range(1, 4):\n",
    "        print( format(i*j, \"4d\"))\n",
    "    print()"
   ]
  },
  {
   "cell_type": "code",
   "execution_count": null,
   "metadata": {},
   "outputs": [],
   "source": [
    "# let us indent the print() with the inside loop\n",
    "for i in range(1, 2):\n",
    "    print(i,\"|\")\n",
    "    for j in range(1, 4):\n",
    "        print( format(i*j, \"4d\"))\n",
    "    print()"
   ]
  },
  {
   "cell_type": "code",
   "execution_count": null,
   "metadata": {},
   "outputs": [],
   "source": [
    "for i in range(1,10):\n",
    "    print(i, \"|\", end = \" \")\n",
    "    for j in range(1,2):\n",
    "        print(format(i*j, \"4d\"), end = \" \")\n",
    "    print()"
   ]
  },
  {
   "cell_type": "code",
   "execution_count": null,
   "metadata": {},
   "outputs": [],
   "source": [
    "for row in range(3):\n",
    "    for col in range (3):\n",
    "        print(col*'[]')\n"
   ]
  },
  {
   "cell_type": "code",
   "execution_count": null,
   "metadata": {},
   "outputs": [],
   "source": []
  },
  {
   "cell_type": "code",
   "execution_count": null,
   "metadata": {},
   "outputs": [],
   "source": []
  },
  {
   "cell_type": "code",
   "execution_count": null,
   "metadata": {},
   "outputs": [],
   "source": [
    "for i in range(4):\n",
    "    for j in range(4):\n",
    "        print(i,j, col*'[]')\n",
    "        \n",
    "# Notice the difference in with col*[] and col '[]'"
   ]
  },
  {
   "cell_type": "code",
   "execution_count": null,
   "metadata": {},
   "outputs": [],
   "source": [
    "# Predicting tution in how many years it will become 20000 if it increases 7 % each year.\n",
    "# present tution is 10000\n",
    "\n",
    "tuition = 10000\n",
    "years = 0\n",
    "\n",
    "while tuition <= 20000:\n",
    "    n_tui=tuition * 1.07\n",
    "    years += 1\n",
    "    tuition = n_tui\n",
    "    print(years, tuition)"
   ]
  },
  {
   "cell_type": "code",
   "execution_count": null,
   "metadata": {},
   "outputs": [],
   "source": [
    "tuition = 10000\n",
    "years = 0\n",
    "\n",
    "while tuition <= 20000:\n",
    "    years += 1\n",
    "    tuition = tuition * 1.07\n",
    "print(years, tuition)"
   ]
  },
  {
   "cell_type": "code",
   "execution_count": null,
   "metadata": {},
   "outputs": [],
   "source": [
    "k =1 \n",
    "while k < 1000:\n",
    "    k = k * 10 \n",
    "    print( k)"
   ]
  },
  {
   "cell_type": "code",
   "execution_count": null,
   "metadata": {},
   "outputs": [],
   "source": [
    "sum = 0\n",
    "number = 0\n",
    "while number < 20:\n",
    "    number += 1\n",
    "    sum += number\n",
    "    print(sum)\n",
    "    if sum>=100:\n",
    "        break\n",
    "print(\"the number is\", sum)\n",
    "print(number)"
   ]
  },
  {
   "cell_type": "code",
   "execution_count": null,
   "metadata": {},
   "outputs": [],
   "source": [
    "sum = 0\n",
    "number = 1\n",
    "\n",
    "sum += number\n",
    "print (sum)"
   ]
  },
  {
   "cell_type": "code",
   "execution_count": null,
   "metadata": {},
   "outputs": [],
   "source": [
    "sum = 0\n",
    "number = 0\n",
    "\n",
    "while number < 20:\n",
    "    number +=1\n",
    "    if number == 10 or number == 11:\n",
    "        continue\n",
    "    sum += number\n",
    "    print(\"The sum is\", sum)"
   ]
  },
  {
   "cell_type": "code",
   "execution_count": null,
   "metadata": {},
   "outputs": [],
   "source": [
    "1 % 3"
   ]
  },
  {
   "cell_type": "code",
   "execution_count": null,
   "metadata": {},
   "outputs": [],
   "source": [
    "1/3"
   ]
  },
  {
   "cell_type": "code",
   "execution_count": null,
   "metadata": {},
   "outputs": [],
   "source": [
    "17 % 5"
   ]
  },
  {
   "cell_type": "code",
   "execution_count": null,
   "metadata": {},
   "outputs": [],
   "source": [
    "2%3"
   ]
  },
  {
   "cell_type": "code",
   "execution_count": null,
   "metadata": {},
   "outputs": [],
   "source": [
    "i = 0\n",
    "sum = 0\n",
    "\n",
    "while i < 4:\n",
    "    if i %3 ==0:\n",
    "        continue\n",
    "        sum += 1\n",
    "        i += 1\n",
    "print(sum)"
   ]
  },
  {
   "cell_type": "code",
   "execution_count": null,
   "metadata": {},
   "outputs": [],
   "source": []
  }
 ],
 "metadata": {
  "kernelspec": {
   "display_name": "Python 3",
   "language": "python",
   "name": "python3"
  },
  "language_info": {
   "codemirror_mode": {
    "name": "ipython",
    "version": 3
   },
   "file_extension": ".py",
   "mimetype": "text/x-python",
   "name": "python",
   "nbconvert_exporter": "python",
   "pygments_lexer": "ipython3",
   "version": "3.6.4"
  }
 },
 "nbformat": 4,
 "nbformat_minor": 2
}
