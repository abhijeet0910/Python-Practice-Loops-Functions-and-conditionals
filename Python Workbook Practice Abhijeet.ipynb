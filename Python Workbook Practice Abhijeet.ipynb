{
 "cells": [
  {
   "cell_type": "markdown",
   "metadata": {},
   "source": [
    "Write a program that reads an integer from the user. Then your program should display a message indicating whether the integer\n",
    "is even or odd\n",
    "\n",
    "Pseudo code\n",
    "step1 i will ask a user to enter a number using input fun\n",
    "step 2 feed that number into the condition of even and odd\n",
    "step 3 display the the result whether even or odd"
   ]
  },
  {
   "cell_type": "code",
   "execution_count": null,
   "metadata": {},
   "outputs": [],
   "source": [
    "x = eval(input(\"Enter a number between 1 to 100: \"))\n",
    "\n",
    "if x % 2 == 0:\n",
    "    print( x, \"The number is Even\")\n",
    "else:\n",
    "    print(x, \"The number is Odd\")"
   ]
  },
  {
   "cell_type": "code",
   "execution_count": null,
   "metadata": {},
   "outputs": [],
   "source": [
    "# Question"
   ]
  },
  {
   "cell_type": "markdown",
   "metadata": {},
   "source": [
    " It is commonly said that one human year is equivalent to 7 dog years.\n",
    " However this simple conversion fails to recognize that dogs reach adulthood in approximately two years.\n",
    " As a result, some people believe that it is better to count each of the first two human years as 10.5 dog years,\n",
    " and then count each additional human years as 4 dog years.\n",
    "\n",
    " Write a program that implements the conversation from human years to dog years described above. Ensure that\n",
    " your program works correctly for conversions of less than two human years and for conversions of two or more human years\n",
    " Your program should display an appropraite error message if the user enters a negative number."
   ]
  },
  {
   "cell_type": "code",
   "execution_count": null,
   "metadata": {},
   "outputs": [],
   "source": [
    "\n",
    "hmn_age = eval(input(\"Enter Human Age in Years:\"))\n",
    "if hmn_age <=0:\n",
    "    print(\"Invalid Input enter a positive number\")\n",
    "elif hmn_age<=2:\n",
    "    hmn_age = hmn_age * 10.5\n",
    "    print(hmn_age, \"is the age in dog years\")\n",
    "else:\n",
    "    hmn_age = 21 + (hmn_age-2)*4\n",
    "    print(hmn_age, \"is the age in dog years\")\n",
    "    "
   ]
  },
  {
   "cell_type": "code",
   "execution_count": null,
   "metadata": {},
   "outputs": [],
   "source": [
    "# Question"
   ]
  },
  {
   "cell_type": "markdown",
   "metadata": {},
   "source": [
    " you will create a program that reads a letter of the alphabet from the user. If the user enters a, e, i, o or u\n",
    " then your program should display a message indicating that the entered letter is a vowel. If the user enters y then your program\n",
    " should display a message indicating that sometimes y is a vowel, and sometimes y is\n",
    " a consonant. Otherwise your program should display a message indicating that the\n",
    " letter is a consonant.\n",
    "\n",
    "\n",
    "  it is simple we will have to use the \"in\" operator \n",
    "  ask the user for the letter \n",
    "  vowel a variable\n",
    "  if statements"
   ]
  },
  {
   "cell_type": "code",
   "execution_count": null,
   "metadata": {},
   "outputs": [],
   "source": [
    "\n",
    "letter = input(\"Enter an alphabet: \")\n",
    "\n",
    "vowels = 'a , e, i, o , u'\n",
    "\n",
    "if letter.lower() in vowels.lower():\n",
    "    print(letter, \"is a vowel\")\n",
    "elif letter.lower() == 'y':\n",
    "    print(letter, \"sometimes it is cons0tant and sometimes it is vowel\")\n",
    "else:\n",
    "    print(letter, \"is a consonant\")\n"
   ]
  },
  {
   "cell_type": "code",
   "execution_count": null,
   "metadata": {},
   "outputs": [],
   "source": [
    "letter = input(\"Enter an alphabet: \")\n",
    "\n",
    "if letter.lower() == 'a' or letter.lower() == 'e'or \\\n",
    "letter.lower() == 'i' or letter.lower() == 'o'or \\\n",
    "letter.lower() == 'u':\n",
    "    print(\"It is a vowel\")\n",
    "elif letter.lower() == \"y\":\n",
    "    print(\"sometimes it is consotant and sometimes it is vowel\")\n",
    "else:\n",
    "    print(\"It is a consonant\")"
   ]
  },
  {
   "cell_type": "code",
   "execution_count": null,
   "metadata": {},
   "outputs": [],
   "source": [
    "#Question"
   ]
  },
  {
   "cell_type": "markdown",
   "metadata": {},
   "source": [
    "Positions on a chess board are identified by a letter and a number. The letter identifies\n",
    "the column, while the number identifies the row, as shown below.\n",
    "\n",
    "Write a program that reads a position from the user. Use an if statement to determine\n",
    "if the column begins with a black square or a white square. Then use modular\n",
    "arithmetic to report the color of the square in that row. For example, if the user enters\n",
    "a1 then your program should report that the square is black. If the user enters d5\n",
    "then your program should report that the square is white. Your program may assume\n",
    "that a valid position will always be entered. It does not need to perform any error"
   ]
  },
  {
   "cell_type": "code",
   "execution_count": null,
   "metadata": {},
   "outputs": [],
   "source": [
    "letter = input(\"Enter a letter: \").lower()\n",
    "number = eval(input(\"Enter a number: \"))\n",
    "strt_black = 'a, c, e, g'\n",
    "\n",
    "strt_white = 'b, d, f, h'\n",
    "\n",
    "if letter.lower() > 'h' or number > 8:\n",
    "    print(\"Invalid input\")\n",
    "\n",
    "elif letter in strt_black and number %2 == 1:\n",
    "    print (\"black square\")\n",
    "elif letter in strt_black and number % 2 == 0:\n",
    "    print(\"White Square\")\n",
    "    \n",
    "elif letter in strt_white and number %2 == 0:\n",
    "    print (\"black square\")\n",
    "elif letter in strt_white and number % 2 == 1:\n",
    "    print(\"White Square\")\n",
    "else:\n",
    "    print(\"The black and White sqaure game\")\n"
   ]
  },
  {
   "cell_type": "code",
   "execution_count": null,
   "metadata": {},
   "outputs": [],
   "source": []
  },
  {
   "cell_type": "code",
   "execution_count": null,
   "metadata": {},
   "outputs": [],
   "source": [
    "# Let us build onto another logic for this \n",
    "# there are eight rows and eight columns\n",
    "# it is same like our c4 chords exersice\n",
    "\n",
    "\n",
    "grid_pos = input(\"Please enter a chess board position: \")\n",
    "\n",
    "col = grid_pos[0].lower()\n",
    "row = int(grid_pos[1])\n",
    "\n",
    "if col in \"aceg\":\n",
    "    colStartsWithBlack = True\n",
    "else:\n",
    "    colStartsWithBlack = False\n",
    "if colStartsWithBlack:\n",
    "    if row % 2 == 0:\n",
    "        white = True\n",
    "    else:\n",
    "        white = False\n",
    "else:\n",
    "    if row % 2 == 0:\n",
    "        white = False\n",
    "    else:\n",
    "        white = True\n",
    "\n",
    "if white:\n",
    "    print(\"That position is coloured white.\")\n",
    "else:\n",
    "    print(\"That position is coloured black.\") "
   ]
  },
  {
   "cell_type": "code",
   "execution_count": null,
   "metadata": {},
   "outputs": [],
   "source": []
  },
  {
   "cell_type": "markdown",
   "metadata": {},
   "source": [
    "The following table lists an octave of music notes, beginning with middle C, along\n",
    "with their frequencies.\n",
    "Note Frequency (Hz)\n",
    "C4 261.63\n",
    "D4 293.66\n",
    "E4 329.63\n",
    "F4 349.23\n",
    "G4 392.00\n",
    "A4 440.00\n",
    "B4 493.88\n",
    "\n",
    "Begin by writing a program that reads the name of a note from the user and\n",
    "displays the note’s frequency. Your program should support all of the notes listed\n",
    "previously.\n",
    "Once you have your program working correctly for the notes listed previously you\n",
    "should add support for all of the notes from C0 to C8. While this could be done by\n",
    "adding many additional cases to your if statement, such a solution is cumbersome,\n",
    "inelegant and unacceptable for the purposes of this exercise. Instead, you should\n",
    "exploit the relationship between notes in adjacent octaves. In particular, the frequency\n",
    "of any note in octave n is half the frequency of the corresponding note in octave n+1.\n",
    "By using this relationship, you should be able to add support for the additional notes\n",
    "without adding additional cases to your if statement.\n",
    "Hint: To complete this exercise you will need to extract individual characters\n",
    "from the two-character note name so that you can work with the letter and\n",
    "the octave number separately. Once you have separated the parts, compute the\n",
    "frequency of the note in the fourth octave using the data in the table above.\n",
    "Then divide the frequency by 24−x , where x is the octave number entered by\n",
    "the user. This will halve or double the frequency the correct number of times."
   ]
  },
  {
   "cell_type": "code",
   "execution_count": null,
   "metadata": {},
   "outputs": [],
   "source": [
    "C4_freq = 261.63\n",
    "D4_freq = 293.66\n",
    "E4_freq = 329.63\n",
    "F4_freq = 349.23\n",
    "G4_freq = 392.00\n",
    "A4_freq = 440.00\n",
    "B4_freq = 493.88\n",
    "\n",
    "\n",
    "name = input(\"Enter the two character note name, such as c4: \")\n",
    "\n",
    "note = name[0]\n",
    "print (note)\n",
    "octave = int(name[1])\n",
    "print(octave)\n",
    "\n",
    "if note == 'c':\n",
    "    freq = C4_freq\n",
    "elif note =='d':\n",
    "    freq= D4_freq\n",
    "elif note == \"e\":\n",
    "    freq = E4_freq\n",
    "elif note == 'f':\n",
    "    freq = F4_freq\n",
    "elif note == 'g':\n",
    "    freq = G4_freq\n",
    "elif note == 'a':\n",
    "    freq = A4_freq\n",
    "elif note == 'b':\n",
    "    freq = B4_freq \n",
    "    \n",
    "freq = freq / 2 ** (4 - octave)\n",
    "\n",
    "print(freq)\n",
    "    "
   ]
  },
  {
   "cell_type": "code",
   "execution_count": null,
   "metadata": {},
   "outputs": [],
   "source": [
    "# Question"
   ]
  },
  {
   "cell_type": "markdown",
   "metadata": {},
   "source": [
    "Write a program that reads a year from the user and displays the animal associated\n",
    "with that year. Your program should work correctly for any year greater than or equal\n",
    "to zero, not just the ones listed in the table."
   ]
  },
  {
   "cell_type": "code",
   "execution_count": null,
   "metadata": {},
   "outputs": [],
   "source": [
    "# ask user\n",
    "year = eval(input(\"Enter year: \"))\n",
    "\n",
    "# conditions and that use of modulo to determine the animal associated.\n",
    "\n",
    "if year % 12 ==0:\n",
    "    print(\"Animal is Monkey for\", year,\"th year\")\n",
    "elif year% 12 == 1:\n",
    "    print(\"Animal is rooster for\", year,\"th year\")\n",
    "elif year%12 == 2:\n",
    "    print(\"Animal is dog for\", year,\"th year\")\n",
    "elif year%12 == 3:\n",
    "    print(\"Animal is pig for\", year,\"th year\")\n",
    "elif year%12 == 4:\n",
    "    print(\"Animal is Rat for\", year,\"th year\")\n",
    "elif year%12 == 5:\n",
    "    print(\"Animal is Ox for\", year,\"th year\")\n",
    "elif year%12 == 6:\n",
    "    print(\"Animal is Tiger for \", year,\"th year\")\n",
    "elif year%12 == 7:\n",
    "    print(\"Animal is Hare for \", year,\"th year\")\n",
    "elif year %12 == 8:\n",
    "    print(\"Animal is Dragon for\"  , year,\"th year\")\n",
    "elif year % 12 == 9:\n",
    "    print (\"Animal is Snake for\"  , year,\"th year\")\n",
    "elif year % 12 ==10:\n",
    "    print (\"Animal is Horse for\" , year,\"th year\")\n",
    "elif year % 12 == 11:\n",
    "    print (\"Animal is sheep for \", year,\"th year\")\n",
    "    \n",
    "    \n",
    "# A note on how powerful the modulo operator is in programming logic\n"
   ]
  },
  {
   "cell_type": "markdown",
   "metadata": {},
   "source": [
    "The mod symbol on most programming languages is %. We are used to see it as the remainder of a division. So 5 % 3 = 2. That is, 5 divided by 3 is 1 (remember we are talking about integers) and the remainder is 2.\n",
    "\n",
    "Splitting the Integers\n",
    "Another way of interpreting the modulus is the number of groups we split the integers into. For example, if we use modulus 2, we basically split the integers into even numbers and odd numbers. That’s why we use % 2 to find whether a given number is even (in which case result is 0) or odd (in which case result is 1).\n",
    "\n",
    "Under this perspective the modulus will also be the difference between two consecutive numbers in the same group (i.e., in case of modulus 2, it will be the difference between 2 and 4 and 5 and 7).\n",
    "\n",
    "We could use modulus 3 (breaking the integers into 3 groups), modulus 4 and so on, but modulus 2 is particularly useful because of the concept of even and odd numbers, so we’ll stick with it.\n",
    "\n",
    "Now let’s talk about what happens when we add and multiply even and odd numbers. The results look like this:\n",
    "\n",
    "Even + Even = Even\n",
    "Odd + Odd = Even\n",
    "Even + Odd = Odd\n",
    "Even * Even = Even\n",
    "Odd * Odd = Odd\n",
    "Even * Odd = Even\n",
    "It turns out that modular arithmetic is quite useful to represent those results. But first let’s define a symbol to represent each group. Convention tends to use 0 to represent the even numbers and 1 to represent the odd ones. Now we can say that:\n",
    "\n",
    "0 + 0 ≡ 0 mod 2\n",
    "\n",
    "This means that if we add an even number with an even number the result will be even as well (as far as modulus 2 is concerned). The ≡ sign is called congruence, which can be interpreted as being part of a specific group (in the case of module 2 we can say that every integer is either congruent to 0 or to 1). So read the above expression as “zero plus zero is congruent to zero, modulo two.” All six results look like this:\n",
    "\n",
    "0 + 0 ≡ 0 mod 2\n",
    "1 + 1 ≡ 0 mod 2\n",
    "0 + 1 ≡ 1 mod 2\n",
    "0 * 0 ≡ 0 mod 2\n",
    "1 * 1 ≡ 1 mod 2\n",
    "0 * 1 ≡ 0 mod 2\n",
    "Now the cool thing is that we can apply those rules to expressions with normal integers by reducing each number to its modulus 2 equivalent. For example:\n",
    "\n",
    "12 * 3 + 15 + 7 * 3\n",
    "\n",
    "is equal to\n",
    "\n",
    "(0 * 1) + 1 + (1 * 1)\n",
    "\n",
    "which is equal to\n",
    "\n",
    "0 + 1 + 1\n",
    "\n",
    "and finally\n",
    "\n",
    "0 + 0 ≡ 0 mod 2\n",
    "\n",
    "So the result of the initial expression would be an even number.\n",
    "\n",
    "You can use the same technique with equations. For example:\n",
    "\n",
    "2x + 5 = 12\n",
    "\n",
    "By reducing the integers to their modulus 2 we have:\n",
    "\n",
    "0 + 1 ≡ 0 mod 2\n",
    "\n",
    "But an even number added to an odd number will always produce an odd number, so the above equation has no solution.\n",
    "\n",
    "Congruence\n",
    "Back to the congruence sign now. What does it mean? If we say that x and y are congruent modulo 2 it means that the result of x – y will be perfectly divisible by 2. We could write this as\n",
    "\n",
    "x ≡ y mod 2\n",
    "\n",
    "Another way of putting this is to say that x and y are congruent modulo 2 if there’s a k such that:\n",
    "\n",
    "x – y = k * 2\n",
    "\n",
    "In other words, the difference between x and y is a multiple of 2.\n",
    "\n",
    "Remember when I said that congruence could also be interpreted as “being part of a group”? Here’s what I mean by that. Suppose we are working with module 7. The 7 possible results of taking any integer mod 7 are:\n",
    "\n",
    "0 1 2 3 4 5 6\n",
    "\n",
    "So those results could be seen as groups of integers we’ll be working with under modulo 7. Now what’s the result of 7 % 7? It’s 0. What about 8 % 7? It’s one. 9 % 7 is two, and so on. "
   ]
  },
  {
   "cell_type": "code",
   "execution_count": null,
   "metadata": {},
   "outputs": [],
   "source": [
    "# Tax Calculation"
   ]
  },
  {
   "cell_type": "markdown",
   "metadata": {},
   "source": [
    "A particular cell phone plan includes 50 minutes of air time and 50 text messages\n",
    "for $15.00 a month. Each additional minute of air time costs $0.25, while additional\n",
    "text messages cost $0.15 each. All cell phone bills include an additional charge of\n",
    "$0.44 to support 911 call centers, and the entire bill (including the 911 charge) is\n",
    "subject to 5 percent sales tax.\n",
    "26 2 If Statement Exercises\n",
    "Write a program that reads the number of minutes and text messages used in a\n",
    "month from the user. Display the base charge, additional minutes charge (if any),\n",
    "additional text message charge (if any), the 911 fee, tax and total bill amount. Only\n",
    "display the additional minute and text message charges if the user incurred costs in\n",
    "these categories. Ensure that all of the charges are displayed using 2 decimal places."
   ]
  },
  {
   "cell_type": "code",
   "execution_count": null,
   "metadata": {},
   "outputs": [],
   "source": [
    "# setting up necessary variable\n",
    "base_airtime = 50\n",
    "base_textmsg = 50\n",
    "base_fare = 15\n",
    "charge_911 = 0.44\n",
    "\n",
    "#Ask user\n",
    "air_time = eval(input(\"Enter the number of minutes: \"))\n",
    "text_msg = eval(input(\"Enter the number of text msges: \"))\n",
    "\n",
    "# easy understandable trying exactly how question demands\n",
    "\n",
    "if air_time <= 50 and text_msg <= 50:\n",
    "    total_charge = base_fare + charge_911\n",
    "    grand_total = total_charge + (total_charge * 0.05)\n",
    "\n",
    "elif air_time > 50 and text_msg <= 50:\n",
    "    total_charge = (abs(base_airtime-air_time))*0.25 + base_fare + charge_911\n",
    "    grand_total = total_charge + (total_charge * 0.05)\n",
    "    \n",
    "elif air_time <= 50 and text_msg > 50:\n",
    "    total_charge = (abs(base_textmsg - text_msg))*0.15 + base_fare + charge_911\n",
    "    grand_total = total_charge + (total_charge * 0.05)\n",
    "    \n",
    "elif air_time > 50 and text_msg > 50:\n",
    "    total_charge = (abs(base_airtime-air_time))*0.25 +(abs(base_textmsg - text_msg))*0.15 + base_fare + charge_911\n",
    "    grand_total = total_charge + (total_charge * 0.05)\n",
    "\n",
    "print (\"Your Total Bill is: $%.2f.\" %(grand_total))\n",
    "\n"
   ]
  },
  {
   "cell_type": "code",
   "execution_count": null,
   "metadata": {},
   "outputs": [],
   "source": [
    "# Question - Leap year\n"
   ]
  },
  {
   "cell_type": "markdown",
   "metadata": {},
   "source": [
    "Most years have 365 days. However, the time required for the Earth to orbit the Sun\n",
    "is actually slightly more than that. As a result, an extra day, February 29, is included\n",
    "in some years to correct for this difference. Such years are referred to as leap years.\n",
    "The rules for determining whether or not a year is a leap year follow:\n",
    "• Any year that is divisible by 400 is a leap year.\n",
    "• Of the remaining years, any year that is divisible by 100 is not a leap year.\n",
    "• Of the remaining years, any year that is divisible by 4 is a leap year.\n",
    "• All other years are not leap years.\n",
    "Write a program that reads a year from the user and displays a message indicating\n",
    "whether or not it is a leap year."
   ]
  },
  {
   "cell_type": "code",
   "execution_count": 1,
   "metadata": {},
   "outputs": [
    {
     "name": "stdout",
     "output_type": "stream",
     "text": [
      "Enter a year: 2000\n",
      "2000 is a leap year.\n"
     ]
    }
   ],
   "source": [
    "# Ask User\n",
    "\n",
    "year = eval(input(\"Enter a year: \"))\n",
    "\n",
    "# conditions to be a leap year\n",
    "\n",
    "if year % 400 == 0:\n",
    "    isleapyear = True\n",
    "elif year % 100 == 0:\n",
    "    isleapyear = False\n",
    "elif year % 4 == 0:\n",
    "    isleapyear = True\n",
    "else:\n",
    "    isleapyear = False\n",
    "    \n",
    "# print the output to the screen\n",
    "if isleapyear:\n",
    "    print(year, \"is a leap year.\")\n",
    "else:\n",
    "    print(year, \"is not a leap year.\")"
   ]
  },
  {
   "cell_type": "code",
   "execution_count": null,
   "metadata": {},
   "outputs": [],
   "source": [
    "# Question Next day"
   ]
  },
  {
   "cell_type": "markdown",
   "metadata": {},
   "source": [
    "Write a program that reads a date from the user and computes its immediate successor.\n",
    "For example, if the user enters values that represent 2013-11-18 then your program\n",
    "should display a message indicating that the day immediately after 2013-11-18 is\n",
    "2013-11-19. If the user enters values that represent 2013-11-30 then the program\n",
    "should indicate that the next day is 2013-12-01. If the user enters values that represent\n",
    "2013-12-31 then the program should indicate that the next day is 2014-01-01. The\n",
    "date will be entered in numeric form with three separate input statements; one for\n",
    "the year, one for the month, and one for the day. Ensure that your program works\n",
    "correctly for leap years."
   ]
  },
  {
   "cell_type": "code",
   "execution_count": 4,
   "metadata": {},
   "outputs": [
    {
     "name": "stdout",
     "output_type": "stream",
     "text": [
      "Enter an year: 2001\n",
      "Enter a month between 1- 12:  2\n",
      "Enter day between 1- 31:    28\n",
      "The next date is [yyyy-mm-dd] 2001-3-1.\n"
     ]
    }
   ],
   "source": [
    "# First we need to take care of the leap year\n",
    "# Ask user to enter an year.\n",
    "\n",
    "year = eval(input(\"Enter an year: \"))\n",
    "\n",
    "# check for the leap year\n",
    "if year % 400 == 0:\n",
    "    isleapyear = True\n",
    "elif year % 100 == 0:\n",
    "    isleapyear = False\n",
    "elif year % 4 == 0:\n",
    "    isleapyear = True\n",
    "else:\n",
    "    isleapyear = False\n",
    "    \n",
    "month = eval(input(\"Enter a month between 1- 12:  \"))\n",
    "\n",
    "\n",
    "if month in (1,3,5,7,8,10,12):\n",
    "    days_in_month = 31\n",
    "elif month == 2:\n",
    "    if isleapyear ==True:\n",
    "        days_in_month = 29\n",
    "    else:\n",
    "        days_in_month = 28\n",
    "else:\n",
    "    days_in_month = 30\n",
    "    \n",
    "day = eval(input(\"Enter day between 1- 31:    \"))\n",
    "\n",
    "\n",
    "if day < days_in_month:\n",
    "    day = day + 1\n",
    "else:\n",
    "    day = 1\n",
    "    if month == 12:\n",
    "        month = 1\n",
    "        year = year + 1\n",
    "    else:\n",
    "        month = month + 1\n",
    "    \n",
    "print(\"The next date is [yyyy-mm-dd] %d-%d-%d.\" % (year, month, day))"
   ]
  },
  {
   "cell_type": "code",
   "execution_count": null,
   "metadata": {},
   "outputs": [],
   "source": [
    "# Question License Plate Valid?\n"
   ]
  },
  {
   "cell_type": "markdown",
   "metadata": {},
   "source": [
    "In a particular jurisdiction, older license plates consist of three uppercase letters\n",
    "followed by three numbers. When all of the license plates following that pattern had\n",
    "been used, the format was changed to four numbers followed by three uppercase\n",
    "letters.\n",
    "\n",
    "\n",
    "Write a program that begins by reading a string of characters from the user. Then\n",
    "your program should display a message indicating whether the characters are valid\n",
    "for an older style license plate or a newer style license plate. Your program should\n",
    "display an appropriate message if the string entered by the user is not valid for either\n",
    "style of license plate."
   ]
  },
  {
   "cell_type": "code",
   "execution_count": null,
   "metadata": {},
   "outputs": [],
   "source": []
  },
  {
   "cell_type": "code",
   "execution_count": 37,
   "metadata": {},
   "outputs": [
    {
     "name": "stdout",
     "output_type": "stream",
     "text": [
      "Enter the license plate:   122dfgg\n",
      "Invalid Plate Number\n"
     ]
    }
   ],
   "source": [
    "# let us see how efficiently how can we solve this\n",
    "# also let us try and use \"in\" operator \n",
    "\n",
    "alphabets = 'A,B,C,D,E,F,G,H,I,J,K,L,M,N,O,P,Q,R,S,T,U,V,W,X,Y,Z'\n",
    "numbers = '1,2,3,4,5,6,7,8,9,0'\n",
    "\n",
    "# you have to put numbers as string also because input function give str as output\n",
    "# else you have to change the plate number to int by applying the function separately.\n",
    "# TWO SCENARIOS\n",
    "# 3 LETTERS FOLLOWED BY 3 NUMBERS\n",
    "# 4 NUMBERS FOLLOWED BY 3 LETTERS\n",
    "\n",
    "plate = input(\"Enter the license plate:   \").upper()\n",
    "\n",
    "if len(plate) == 6 and plate[0] in alphabets and plate[1] in alphabets and plate[2] in alphabets and \\\n",
    "plate[3] in numbers and plate[4] in numbers and plate[5] in numbers:\n",
    "    print(plate ,  \" It is a older style plate\")\n",
    "\n",
    "elif len(plate) == 7 and plate[0] in numbers and plate[1] in numbers and plate[2] in numbers and \\\n",
    "plate[3] in numbers and plate[4] in alphabets and plate[5] in alphabets and plate[6] in alphabets:\n",
    "    print(plate ,  \" It is new style plate\")\n",
    "\n",
    "else:\n",
    "    print(\"Invalid Plate Number\")\n"
   ]
  },
  {
   "cell_type": "code",
   "execution_count": null,
   "metadata": {},
   "outputs": [],
   "source": []
  },
  {
   "cell_type": "code",
   "execution_count": 38,
   "metadata": {},
   "outputs": [],
   "source": [
    "# Question Roulette Payouts"
   ]
  },
  {
   "cell_type": "markdown",
   "metadata": {},
   "source": [
    "A roulette wheel has 38 spaces on it. Of these spaces, 18 are black, 18 are red, and two\n",
    "are green. The green spaces are numbered 0 and 00. The red spaces are numbered 1,\n",
    "3, 5, 7, 9, 12, 14, 16, 18, 19, 21, 23, 25, 27, 30 32, 34 and 36. The remaining integers\n",
    "between 1 and 36 are used to number the black spaces.\n",
    "\n",
    "Many different bets can be placed in roulette.We will only consider the following\n",
    "subset of them in this exercise:\n",
    "    \n",
    "• Single number (1 to 36, 0, or 00)\n",
    "\n",
    "• Red versus Black\n",
    "\n",
    "• Odd versus Even (Note that 0 and 00 do not pay out for even)\n",
    "\n",
    "• 1 to 18 versus 19 to 36\n",
    "\n",
    "Write a program that simulates a spin of a roulette wheel by using Python’s random\n",
    "number generator. Display the number that was selected and all of the bets that must\n",
    "be payed. For example, if 13 is selected then your program should display:\n",
    "The spin resulted in 13...\n",
    "\n",
    "Pay 13\n",
    "\n",
    "Pay Black\n",
    "\n",
    "Pay Odd\n",
    "\n",
    "Pay 1 to 18\n",
    "\n",
    "If the simulation results in 0 or 00 then your program should display Pay 0 or\n",
    "Pay 00 without any further output."
   ]
  },
  {
   "cell_type": "code",
   "execution_count": 45,
   "metadata": {},
   "outputs": [
    {
     "name": "stdout",
     "output_type": "stream",
     "text": [
      "Roulette spins 23..\n",
      "you get  23\n",
      "pay red\n",
      "pay odd\n",
      "upper pay band  :  19 to 36\n"
     ]
    }
   ],
   "source": [
    "# for this random import is required\n",
    "# 4 scenarios\n",
    "\n",
    "from random import randrange\n",
    "\n",
    "# we can't have 00 with random range function\n",
    "# let us consider \"37 \" as 00 \n",
    "\n",
    "roll_value = randrange(0 , 38)\n",
    "\n",
    "if roll_value == 37:\n",
    "    print(\"Roulette spins 00\")\n",
    "else:\n",
    "    print(\"Roulette spins %d..\" % roll_value)\n",
    "    \n",
    "#payout for 37\n",
    "\n",
    "if roll_value == 37:\n",
    "    print(\"sorry! you recieve pay 00\")\n",
    "else:\n",
    "    print(\"you get \" , roll_value)\n",
    "    \n",
    "# now for different color red black\n",
    "\n",
    "if roll_value % 2 == 1 and roll_value >= 1 and roll_value <= 9 or \\\n",
    "roll_value % 2 == 0 and roll_value >= 12 and roll_value <= 18 or \\\n",
    "roll_value % 2 == 1 and roll_value >= 19 and roll_value <= 27 or \\\n",
    "roll_value % 2 == 0 and roll_value >=30 and roll_value <= 36:\n",
    "    print(\"pay red\")\n",
    "\n",
    "elif roll_value == 0 or roll_value == 37:\n",
    "    pass\n",
    "else:\n",
    "    (\"pay black\")\n",
    "\n",
    "# display even vs odd\n",
    "if roll_value > 1 and roll_value <=36:\n",
    "    if roll_value % 2 == 1:\n",
    "        print(\"pay odd\")\n",
    "    else:\n",
    "        print(\"pay even\")\n",
    "        \n",
    "if roll_value >=1 and roll_value <= 18:\n",
    "    print(\"lower pay band   : 1 to 18\")\n",
    "elif roll_value >= 19 and roll_value <=36:\n",
    "    print(\"upper pay band  :  19 to 36\")\n",
    "    \n",
    "    \n"
   ]
  },
  {
   "cell_type": "code",
   "execution_count": null,
   "metadata": {},
   "outputs": [],
   "source": []
  },
  {
   "cell_type": "code",
   "execution_count": null,
   "metadata": {},
   "outputs": [],
   "source": []
  }
 ],
 "metadata": {
  "kernelspec": {
   "display_name": "Python 3",
   "language": "python",
   "name": "python3"
  },
  "language_info": {
   "codemirror_mode": {
    "name": "ipython",
    "version": 3
   },
   "file_extension": ".py",
   "mimetype": "text/x-python",
   "name": "python",
   "nbconvert_exporter": "python",
   "pygments_lexer": "ipython3",
   "version": "3.6.4"
  }
 },
 "nbformat": 4,
 "nbformat_minor": 2
}
