{
 "cells": [
  {
   "cell_type": "code",
   "execution_count": null,
   "metadata": {},
   "outputs": [],
   "source": [
    "print (\"I can really a number with a string using comma\" + 6 + \"really\")"
   ]
  },
  {
   "cell_type": "code",
   "execution_count": null,
   "metadata": {},
   "outputs": [],
   "source": [
    "# now lets us see how we can solve this problem with comma\n",
    "print( \" I can really use a number with a string using comma\", 6 , \"really\")"
   ]
  },
  {
   "cell_type": "code",
   "execution_count": null,
   "metadata": {},
   "outputs": [],
   "source": [
    "total_cost = 22.95\n",
    "user_name = input(\"Enter your name: \")"
   ]
  },
  {
   "cell_type": "code",
   "execution_count": null,
   "metadata": {},
   "outputs": [],
   "source": [
    "print(user_name, \"- the total is $\", total_cost, \"for today's purchase\")"
   ]
  },
  {
   "cell_type": "markdown",
   "metadata": {},
   "source": [
    "# String Format Methods"
   ]
  },
  {
   "cell_type": "code",
   "execution_count": null,
   "metadata": {},
   "outputs": [],
   "source": [
    "fav_color = (input(\"what is your fav color: \").lower())\n"
   ]
  },
  {
   "cell_type": "code",
   "execution_count": null,
   "metadata": {},
   "outputs": [],
   "source": [
    "print(fav_color)"
   ]
  },
  {
   "cell_type": "code",
   "execution_count": null,
   "metadata": {},
   "outputs": [],
   "source": [
    "# format variable after input\n",
    "fav_color1 = input(\"what is your fav color: \")\n"
   ]
  },
  {
   "cell_type": "code",
   "execution_count": null,
   "metadata": {},
   "outputs": [],
   "source": [
    "print(fav_color1.upper())"
   ]
  },
  {
   "cell_type": "markdown",
   "metadata": {},
   "source": [
    "# searching with in keyword"
   ]
  },
  {
   "cell_type": "code",
   "execution_count": null,
   "metadata": {},
   "outputs": [],
   "source": [
    "menu = 'salad pizza desert pasta cutlet'\n",
    "print('Pizza' in menu)\n",
    "\n",
    "# since in menu pizza is in lower case either i need to search with \"pizza\" or use .lower()"
   ]
  },
  {
   "cell_type": "code",
   "execution_count": null,
   "metadata": {},
   "outputs": [],
   "source": [
    "menu = 'salad pizza desert pasta cutlet'\n",
    "print('Pizza'.lower() in menu)"
   ]
  },
  {
   "cell_type": "code",
   "execution_count": null,
   "metadata": {},
   "outputs": [],
   "source": [
    "# best practice \n",
    "menu = 'salad pizza desert pasta cutlet'.upper()\n",
    "print('pizza'.lower() in menu)"
   ]
  },
  {
   "cell_type": "code",
   "execution_count": null,
   "metadata": {},
   "outputs": [],
   "source": [
    "name = \"SKYE HOMSI\"\n",
    "print(\"y\" in name.lower())"
   ]
  },
  {
   "cell_type": "code",
   "execution_count": null,
   "metadata": {},
   "outputs": [],
   "source": [
    "# module one assignment\n",
    "# Allergy check"
   ]
  },
  {
   "cell_type": "code",
   "execution_count": null,
   "metadata": {},
   "outputs": [],
   "source": [
    "allergy1 = input(\"what all have you eaten in the last 24hrs: \")\n",
    "print(\"have you eaten diary: \", 'diary'.lower() in allergy1.lower())\n",
    "print(\"have you eaten nuts: \", 'nuts'.lower() in allergy1.lower())\n",
    "print(\"have you eaten seafood: \", 'seafood'.lower() in allergy1.lower())\n",
    "print(\"have you eaten choclate: \", 'chocolate'.lower() in allergy1.lower())"
   ]
  },
  {
   "cell_type": "code",
   "execution_count": null,
   "metadata": {},
   "outputs": [],
   "source": [
    "print(\"have you eaten diary: \", 'diary'.lower() in allergy1.lower())"
   ]
  },
  {
   "cell_type": "code",
   "execution_count": null,
   "metadata": {},
   "outputs": [],
   "source": [
    "print(\"have you eaten nuts: \", 'nuts'.lower() in allergy1.lower())"
   ]
  },
  {
   "cell_type": "code",
   "execution_count": null,
   "metadata": {},
   "outputs": [],
   "source": [
    "print(\"have you eaten seafood: \", 'seafood'.lower() in allergy1.lower())"
   ]
  },
  {
   "cell_type": "code",
   "execution_count": null,
   "metadata": {},
   "outputs": [],
   "source": [
    "print(\"have you eaten choclate: \", 'choclate'.lower() in allergy1.lower())"
   ]
  },
  {
   "cell_type": "code",
   "execution_count": null,
   "metadata": {},
   "outputs": [],
   "source": [
    "# function with arguments\n",
    "\n",
    "print (\"hello, world!\")\n",
    "print()\n",
    "print(\"hello\")"
   ]
  },
  {
   "cell_type": "code",
   "execution_count": null,
   "metadata": {},
   "outputs": [],
   "source": [
    "# notice in the above output there is a space in between. print with no argument."
   ]
  },
  {
   "cell_type": "code",
   "execution_count": null,
   "metadata": {},
   "outputs": [],
   "source": [
    "# function with argument and default value"
   ]
  },
  {
   "cell_type": "code",
   "execution_count": null,
   "metadata": {},
   "outputs": [],
   "source": [
    "def yell_this (phrase):\n",
    "    print(phrase + \"!\")"
   ]
  },
  {
   "cell_type": "code",
   "execution_count": null,
   "metadata": {},
   "outputs": [],
   "source": [
    "yell_this()"
   ]
  },
  {
   "cell_type": "code",
   "execution_count": null,
   "metadata": {},
   "outputs": [],
   "source": [
    "yell_this(\"good morning\")"
   ]
  },
  {
   "cell_type": "code",
   "execution_count": null,
   "metadata": {},
   "outputs": [],
   "source": [
    "# suppose we set a default argument\n",
    "def yell_this(phrase = \"good night\"):\n",
    "    print(phrase.upper() + \"!\")"
   ]
  },
  {
   "cell_type": "code",
   "execution_count": null,
   "metadata": {},
   "outputs": [],
   "source": [
    "yell_this()"
   ]
  },
  {
   "cell_type": "code",
   "execution_count": null,
   "metadata": {},
   "outputs": [],
   "source": [
    "yell_this(\"good afternoon\")"
   ]
  },
  {
   "cell_type": "code",
   "execution_count": null,
   "metadata": {},
   "outputs": [],
   "source": [
    "# notice the difference above\n",
    "def add_num1(num1=10):\n",
    "    print(num1+num1)"
   ]
  },
  {
   "cell_type": "code",
   "execution_count": null,
   "metadata": {},
   "outputs": [],
   "source": [
    "add_num1()"
   ]
  },
  {
   "cell_type": "code",
   "execution_count": null,
   "metadata": {},
   "outputs": [],
   "source": [
    "# functions with multiple parameters\n",
    "def make_schedule(period1 , period2):\n",
    "    schedule = (\"[1] \" + period1.title() , \"[2] \" + period2.title())\n",
    "    return schedule"
   ]
  },
  {
   "cell_type": "code",
   "execution_count": null,
   "metadata": {},
   "outputs": [],
   "source": [
    "make_schedule(\"maths\",\"science\")"
   ]
  },
  {
   "cell_type": "code",
   "execution_count": null,
   "metadata": {},
   "outputs": [],
   "source": [
    "def format_info(name, age, school):\n",
    "    return \"student: \" + name + \"\\nage: \" + str(age) + \"\\nschool: \" + school"
   ]
  },
  {
   "cell_type": "code",
   "execution_count": null,
   "metadata": {},
   "outputs": [],
   "source": [
    "fun_test = format_info(\"abhijeet\", 25, \"LFHS\")"
   ]
  },
  {
   "cell_type": "code",
   "execution_count": null,
   "metadata": {},
   "outputs": [],
   "source": [
    "print(format_info(\"abhijeet\", 25, \"LFHS\"))"
   ]
  },
  {
   "cell_type": "code",
   "execution_count": null,
   "metadata": {},
   "outputs": [],
   "source": [
    "def format_info(name, age, school):\n",
    "    return \"student: \" + name + \"age: \" + age + \"school: \" + school"
   ]
  },
  {
   "cell_type": "code",
   "execution_count": null,
   "metadata": {},
   "outputs": [],
   "source": [
    "format_info(\"abhijeet\", \"15\", \"lfhs\")"
   ]
  },
  {
   "cell_type": "code",
   "execution_count": null,
   "metadata": {},
   "outputs": [],
   "source": [
    "# Bird Available\n",
    "\n",
    "bird_available = input(\"enter the name of the bird: \").lower()\n",
    "print( \"crow\" in bird_available)\n",
    "print(\"parrot\" in bird_available)\n",
    "print(\"pegion\" in bird_available)"
   ]
  },
  {
   "cell_type": "code",
   "execution_count": null,
   "metadata": {},
   "outputs": [],
   "source": [
    "def bird_available1(type):\n",
    "    input(\"enter the name of the bird: \").lower\n",
    "    bird_types = 'crow robin parrot eagle sandpiper hawk pigeon'\n",
    "    print(\"bird\" in bird_types)"
   ]
  },
  {
   "cell_type": "code",
   "execution_count": null,
   "metadata": {},
   "outputs": [],
   "source": [
    "def hat_available(color):\n",
    "    hat_colors = 'black, red, blue, green, yellow, grey, white'\n",
    "    return(color.lower() in hat_colors)"
   ]
  },
  {
   "cell_type": "code",
   "execution_count": null,
   "metadata": {},
   "outputs": [],
   "source": [
    "def hat_available(color):\n",
    "    hat_colors = 'black, red, blue, green, yellow, grey, white'\n",
    "    print(\"hat available is: \" color.lower() in hat_colors)\n"
   ]
  },
  {
   "cell_type": "code",
   "execution_count": null,
   "metadata": {},
   "outputs": [],
   "source": [
    "def hat_available(color):\n",
    "    hat_colors = 'black, red, blue, green, yellow, grey, white'\n",
    "    print(\"hat available is: \",color.lower() in hat_colors)\n",
    "    \n",
    "# after adding the comma the above error rectified.\n"
   ]
  },
  {
   "cell_type": "code",
   "execution_count": null,
   "metadata": {},
   "outputs": [],
   "source": [
    "hat_available(\"purple\")"
   ]
  },
  {
   "cell_type": "code",
   "execution_count": null,
   "metadata": {},
   "outputs": [],
   "source": [
    "def bird_available(name):\n",
    "    bird_types = 'crow, robin, parrot, eagle, sandpiper, hawk, piegon'\n",
    "    return (name.lower() in bird_types)\n",
    "\n",
    "\n",
    "# [ ] user input\n",
    "\n",
    "bird_ask = input(\"What bird are you looking for?:\")\n",
    "\n",
    "# [ ] call bird_available\n",
    "\n",
    "bird_output = bird_available(bird_ask)\n",
    "\n",
    "# [ ] print availbility status\n",
    "\n",
    "print(bird_ask.capitalize(), \"available is\", bird_output)"
   ]
  },
  {
   "cell_type": "code",
   "execution_count": 1,
   "metadata": {},
   "outputs": [
    {
     "name": "stdout",
     "output_type": "stream",
     "text": [
      "what bird are you looking for: brow\n",
      "Brow available is False\n"
     ]
    }
   ],
   "source": [
    "def bird_available1(name):\n",
    "    bird_types = 'crow, robin, parrot, eagle, sandpiper, hawk, piegon'\n",
    "    return (name.lower()in bird_types)\n",
    "    \n",
    "bird_ask = input(\"what bird are you looking for: \")\n",
    "\n",
    "bird_output = bird_available1(bird_ask) # here we have learnt that we can call variable as parameter to a function.\n",
    "\n",
    "print (bird_ask.capitalize(), \"available is\", bird_output) \n"
   ]
  },
  {
   "cell_type": "code",
   "execution_count": null,
   "metadata": {},
   "outputs": [],
   "source": [
    "name = input(\"enter your name: \")\n"
   ]
  },
  {
   "cell_type": "code",
   "execution_count": 1,
   "metadata": {},
   "outputs": [],
   "source": [
    "def fish_store(fish,price):\n",
    "    fish_entry \n",
    "    price_en"
   ]
  },
  {
   "cell_type": "code",
   "execution_count": 2,
   "metadata": {},
   "outputs": [],
   "source": [
    "year = \"2001\""
   ]
  },
  {
   "cell_type": "code",
   "execution_count": 4,
   "metadata": {},
   "outputs": [
    {
     "data": {
      "text/plain": [
       "str"
      ]
     },
     "execution_count": 4,
     "metadata": {},
     "output_type": "execute_result"
    }
   ],
   "source": [
    "type(year)"
   ]
  },
  {
   "cell_type": "code",
   "execution_count": 5,
   "metadata": {},
   "outputs": [
    {
     "data": {
      "text/plain": [
       "True"
      ]
     },
     "execution_count": 5,
     "metadata": {},
     "output_type": "execute_result"
    }
   ],
   "source": [
    "year.isdigit()"
   ]
  },
  {
   "cell_type": "code",
   "execution_count": 10,
   "metadata": {},
   "outputs": [
    {
     "name": "stdout",
     "output_type": "stream",
     "text": [
      "What is your favorite color?: green\n",
      "GREEN\n"
     ]
    }
   ],
   "source": [
    "fav_color = input('What is your favorite color?: ').upper()\n",
    "print(fav_color)"
   ]
  },
  {
   "cell_type": "code",
   "execution_count": 13,
   "metadata": {},
   "outputs": [
    {
     "name": "stdout",
     "output_type": "stream",
     "text": [
      "'hello' in greeting =  False\n",
      "'Hello' in greeting =  True\n"
     ]
    }
   ],
   "source": [
    "greeting = 'Hello world'\n",
    "print (\"'hello' in greeting = \", 'hello' in greeting)\n",
    "print (\"'Hello' in greeting = \",'Hello' in greeting)"
   ]
  },
  {
   "cell_type": "code",
   "execution_count": 16,
   "metadata": {},
   "outputs": [
    {
     "name": "stdout",
     "output_type": "stream",
     "text": [
      "'hello' in greeting =  False\n",
      "'Hello' in greeting =  True\n",
      "'hello' in greeting =  True\n"
     ]
    }
   ],
   "source": [
    "print (\"'hello' in greeting = \", 'hello' in greeting)\n",
    "print (\"'Hello' in greeting = \", 'Hello' in greeting)\n",
    "print(\"'hello' in greeting = \", 'hello'.lower() in greeting.lower())"
   ]
  },
  {
   "cell_type": "code",
   "execution_count": 7,
   "metadata": {},
   "outputs": [
    {
     "name": "stdout",
     "output_type": "stream",
     "text": [
      "what do you want from the menu?: bread\n",
      "bread in menu = False\n"
     ]
    }
   ],
   "source": [
    "menu_ask = input( \"what do you want from the menu?: \")\n",
    "menu = ' salad, ginger, garlic, chicken, paneer, mutton'\n",
    "print ( menu_ask, \"in menu =\", menu_ask in menu)"
   ]
  },
  {
   "cell_type": "code",
   "execution_count": 14,
   "metadata": {},
   "outputs": [
    {
     "name": "stdout",
     "output_type": "stream",
     "text": [
      "what do you want to add in the menu?: bread\n",
      " salad, ginger, garlic, chicken, paneer, mutton,bread\n"
     ]
    }
   ],
   "source": [
    "add_menu = input(\"what do you want to add in the menu?: \")\n",
    "new_menu = menu + \",\" +add_menu\n",
    "print(new_menu)"
   ]
  },
  {
   "cell_type": "code",
   "execution_count": 1,
   "metadata": {},
   "outputs": [],
   "source": [
    "# conditionals \n",
    "\n",
    "# if , esle, and pass"
   ]
  },
  {
   "cell_type": "code",
   "execution_count": 4,
   "metadata": {},
   "outputs": [
    {
     "name": "stdout",
     "output_type": "stream",
     "text": [
      "print this statement\n"
     ]
    }
   ],
   "source": [
    "if True:\n",
    "if False:\n",
    "    print(\" this is true print the statement\")\n",
    "else:\n",
    "    print(\"print this statement\")\n",
    "    \n",
    "# to run both"
   ]
  },
  {
   "cell_type": "code",
   "execution_count": 13,
   "metadata": {},
   "outputs": [
    {
     "name": "stdout",
     "output_type": "stream",
     "text": [
      "how are you doing!\n"
     ]
    }
   ],
   "source": [
    " someone_i_know = True\n",
    "    \n",
    "if someone_i_know:\n",
    "    print(\"how are you doing!\")\n",
    "else:\n",
    "    print(\"I am sory i dont know you\")\n",
    "    \n",
    "# if you dont wanna do anything at the else statement we can just say pass"
   ]
  },
  {
   "cell_type": "code",
   "execution_count": 14,
   "metadata": {},
   "outputs": [
    {
     "name": "stdout",
     "output_type": "stream",
     "text": [
      "enjoy the weather\n"
     ]
    }
   ],
   "source": [
    "sunny_today = True\n",
    "\n",
    "if sunny_today:\n",
    "    print(\"enjoy the weather\")\n",
    "else:\n",
    "    print(\"possiblity of an inclement weather\")"
   ]
  },
  {
   "cell_type": "code",
   "execution_count": 18,
   "metadata": {},
   "outputs": [
    {
     "name": "stdout",
     "output_type": "stream",
     "text": [
      "enter the name of the book:A Notebook\n",
      "A Notebook -nice capitalization in that\n"
     ]
    }
   ],
   "source": [
    "fav_book = input(\"enter the name of the book:\")\n",
    "\n",
    "if fav_book.istitle():\n",
    "    print(fav_book, \"-nice capitalization in that\")\n",
    "else:\n",
    "    print(fav_book, \"-Tip:\"\"would like u to add capitalization\")\n"
   ]
  },
  {
   "cell_type": "code",
   "execution_count": 21,
   "metadata": {},
   "outputs": [
    {
     "name": "stdout",
     "output_type": "stream",
     "text": [
      "enter a positive number: number\n",
      "number  - this is not a positive number\n",
      "number  - it is a word\n"
     ]
    }
   ],
   "source": [
    "a_num = input(\"enter a positive number: \")\n",
    "\n",
    "if a_num.isdigit():\n",
    "    print( a_num, \" - this is a positive number\")\n",
    "else:\n",
    "    print(a_num, \" - this is not a positive number\")\n",
    "if a_num.isalpha():\n",
    "    print (a_num, \" - it is a word\")\n",
    "else:\n",
    "    pass\n"
   ]
  },
  {
   "cell_type": "code",
   "execution_count": 23,
   "metadata": {},
   "outputs": [
    {
     "name": "stdout",
     "output_type": "stream",
     "text": [
      "x is already greater than 25\n"
     ]
    }
   ],
   "source": [
    "x = 26\n",
    "\n",
    "if x > 25:\n",
    "    print (\"x is already greater than 25\")\n",
    "else:\n",
    "    print (\"x was\", x)\n",
    "    x = 26\n",
    "    print (\"now x is\", x)\n"
   ]
  },
  {
   "cell_type": "code",
   "execution_count": 29,
   "metadata": {},
   "outputs": [
    {
     "name": "stdout",
     "output_type": "stream",
     "text": [
      "position is 18 Game Over!!\n"
     ]
    }
   ],
   "source": [
    "position = 18\n",
    "trap_value = 18\n",
    "\n",
    "if position != 18:\n",
    "    print (\".....keep playing\")\n",
    "else:\n",
    "    print (\"position is\", trap_value, \"Game Over!!\")\n"
   ]
  },
  {
   "cell_type": "code",
   "execution_count": 30,
   "metadata": {},
   "outputs": [
    {
     "name": "stdout",
     "output_type": "stream",
     "text": [
      " the value of x is 2\n"
     ]
    }
   ],
   "source": [
    "x = 2\n",
    "\n",
    "if x ==2:\n",
    "    print ( \" the value of x is\", x)\n",
    "else:\n",
    "    pass"
   ]
  },
  {
   "cell_type": "code",
   "execution_count": 1,
   "metadata": {},
   "outputs": [],
   "source": [
    "# String Comparison"
   ]
  },
  {
   "cell_type": "code",
   "execution_count": 2,
   "metadata": {},
   "outputs": [
    {
     "data": {
      "text/plain": [
       "False"
      ]
     },
     "execution_count": 2,
     "metadata": {},
     "output_type": "execute_result"
    }
   ],
   "source": [
    "'hello' < \"HELLO\""
   ]
  },
  {
   "cell_type": "code",
   "execution_count": 3,
   "metadata": {},
   "outputs": [
    {
     "data": {
      "text/plain": [
       "True"
      ]
     },
     "execution_count": 3,
     "metadata": {},
     "output_type": "execute_result"
    }
   ],
   "source": [
    "'hello' > \"HELLO\""
   ]
  },
  {
   "cell_type": "code",
   "execution_count": 4,
   "metadata": {},
   "outputs": [
    {
     "data": {
      "text/plain": [
       "False"
      ]
     },
     "execution_count": 4,
     "metadata": {},
     "output_type": "execute_result"
    }
   ],
   "source": [
    "'hello' < \"Hello\""
   ]
  },
  {
   "cell_type": "code",
   "execution_count": 8,
   "metadata": {},
   "outputs": [
    {
     "data": {
      "text/plain": [
       "True"
      ]
     },
     "execution_count": 8,
     "metadata": {},
     "output_type": "execute_result"
    }
   ],
   "source": [
    "'HELLo' < \"HELlO\""
   ]
  },
  {
   "cell_type": "code",
   "execution_count": 9,
   "metadata": {},
   "outputs": [
    {
     "name": "stdout",
     "output_type": "stream",
     "text": [
      "Greet with the word hello:Hello\n"
     ]
    },
    {
     "data": {
      "text/plain": [
       "True"
      ]
     },
     "execution_count": 9,
     "metadata": {},
     "output_type": "execute_result"
    }
   ],
   "source": [
    "greeting = 'Hello'\n",
    "msg = input(\"Greet with the word hello:\" )\n",
    "msg == greeting\n"
   ]
  },
  {
   "cell_type": "code",
   "execution_count": 10,
   "metadata": {},
   "outputs": [
    {
     "name": "stdout",
     "output_type": "stream",
     "text": [
      "msg not as expected\n"
     ]
    }
   ],
   "source": [
    "msg = \"Save the notebook\"\n",
    "\n",
    "if msg=='save the notebook':\n",
    "    print(\"msg as expected\")\n",
    "else:\n",
    "    print(\"msg not as expected\")"
   ]
  },
  {
   "cell_type": "code",
   "execution_count": 12,
   "metadata": {},
   "outputs": [
    {
     "name": "stdout",
     "output_type": "stream",
     "text": [
      "msg as expected\n"
     ]
    }
   ],
   "source": [
    "# let us make it more general\n",
    "msg = \"Save the notebook\"\n",
    "prediction = \"save the notebook\"\n",
    "\n",
    "if msg.lower() == prediction.lower():\n",
    "    print (\"msg as expected\")\n",
    "else:\n",
    "    print(\"msg not as expected\")"
   ]
  },
  {
   "cell_type": "code",
   "execution_count": null,
   "metadata": {},
   "outputs": [],
   "source": [
    "# string comparison with letter\n",
    "\n",
    "l_name = input(\"enter the last name\")\n",
    "\n",
    "if l_name.lower() <= 'c':\n",
    "    print (\"welcome to the a b c line\")\n",
    "else:\n",
    "    print(\"this is not an a b c line\")"
   ]
  },
  {
   "cell_type": "code",
   "execution_count": 4,
   "metadata": {},
   "outputs": [
    {
     "name": "stdout",
     "output_type": "stream",
     "text": [
      "enter the guess numeber (1,2,3):4\n",
      "4 it is not avalid guess\n"
     ]
    }
   ],
   "source": [
    "# conditions elif and casting \n",
    "\n",
    "secret_num = \"2\"\n",
    "\n",
    "guess = input(\"enter the guess numeber (1,2,3):\")\n",
    "\n",
    "if guess.isdigit == False:\n",
    "    print (\" this is a word enter a number\")\n",
    "elif guess == \"1\":\n",
    "    print(\"the number is too low for the guess\")\n",
    "elif guess == secret_num:\n",
    "    print (\"Great guess\", \"-\", secret_num , \"this is the number\")\n",
    "elif guess == \"3\":\n",
    "    print (\"the guess is too high\")\n",
    "else:\n",
    "    print (guess, \"it is not avalid guess\")"
   ]
  },
  {
   "cell_type": "code",
   "execution_count": null,
   "metadata": {},
   "outputs": [],
   "source": [
    "# Shirt Size Problem\n",
    "#Get user input for variable size (S, M, L)\n",
    "#reply with each shirt size and price (Small = $ 6, Medium = $ 7, Large = $ 8)\n",
    "#if the reply is other than S, M, L, give a message for not available\n",
    "#optional: add additional sizes\n",
    "# [ ] code and test SHIRT SALE"
   ]
  },
  {
   "cell_type": "code",
   "execution_count": 6,
   "metadata": {},
   "outputs": [
    {
     "name": "stdout",
     "output_type": "stream",
     "text": [
      "what is the size of shirt? (S,M,L): k\n",
      "not available\n"
     ]
    }
   ],
   "source": [
    "shirt_size = input(\"what is the size of shirt? (S,M,L): \")\n",
    "if shirt_size.lower() == \"S\".lower():\n",
    "    print(shirt_size, \"- Small = $6\")\n",
    "elif shirt_size.lower() ==\"M\".lower():\n",
    "    print (shirt_size, \"- Medium = $7\")\n",
    "elif shirt_size.lower() == \"L\".lower():\n",
    "    (shirt_size, \"- Large = $8\")\n",
    "else:\n",
    "    print(\"not available\")"
   ]
  },
  {
   "cell_type": "code",
   "execution_count": 9,
   "metadata": {},
   "outputs": [
    {
     "ename": "TypeError",
     "evalue": "must be str, not int",
     "output_type": "error",
     "traceback": [
      "\u001b[1;31m---------------------------------------------------------------------------\u001b[0m",
      "\u001b[1;31mTypeError\u001b[0m                                 Traceback (most recent call last)",
      "\u001b[1;32m<ipython-input-9-7d86f490a042>\u001b[0m in \u001b[0;36m<module>\u001b[1;34m()\u001b[0m\n\u001b[0;32m      2\u001b[0m \u001b[0mweight1\u001b[0m \u001b[1;33m=\u001b[0m \u001b[1;34m'59'\u001b[0m\u001b[1;33m\u001b[0m\u001b[0m\n\u001b[0;32m      3\u001b[0m \u001b[0mweight2\u001b[0m \u001b[1;33m=\u001b[0m \u001b[1;36m130\u001b[0m\u001b[1;33m\u001b[0m\u001b[0m\n\u001b[1;32m----> 4\u001b[1;33m \u001b[0mtotalweight\u001b[0m \u001b[1;33m=\u001b[0m \u001b[0mweight1\u001b[0m \u001b[1;33m+\u001b[0m \u001b[0mweight2\u001b[0m\u001b[1;33m\u001b[0m\u001b[0m\n\u001b[0m",
      "\u001b[1;31mTypeError\u001b[0m: must be str, not int"
     ]
    }
   ],
   "source": [
    "# Casting int() flot() str ()\n",
    "weight1 = '59'\n",
    "weight2 = 130\n",
    "totalweight = weight1 + weight2\n"
   ]
  },
  {
   "cell_type": "code",
   "execution_count": 12,
   "metadata": {},
   "outputs": [
    {
     "name": "stdout",
     "output_type": "stream",
     "text": [
      "189\n"
     ]
    }
   ],
   "source": [
    "# now let us fix the error\n",
    "weight1 = '59'\n",
    "weight = 130\n",
    "totalweight = int(weight1) + weight2\n",
    "print(totalweight)"
   ]
  },
  {
   "cell_type": "code",
   "execution_count": 14,
   "metadata": {},
   "outputs": [
    {
     "name": "stdout",
     "output_type": "stream",
     "text": [
      "enter student's age (interger): 4\n"
     ]
    },
    {
     "ename": "TypeError",
     "evalue": "must be str, not int",
     "output_type": "error",
     "traceback": [
      "\u001b[1;31m---------------------------------------------------------------------------\u001b[0m",
      "\u001b[1;31mTypeError\u001b[0m                                 Traceback (most recent call last)",
      "\u001b[1;32m<ipython-input-14-d6e05dc71952>\u001b[0m in \u001b[0;36m<module>\u001b[1;34m()\u001b[0m\n\u001b[0;32m      1\u001b[0m \u001b[0mstudent_age\u001b[0m \u001b[1;33m=\u001b[0m \u001b[0minput\u001b[0m\u001b[1;33m(\u001b[0m\u001b[1;34m\"enter student's age (interger): \"\u001b[0m\u001b[1;33m)\u001b[0m\u001b[1;33m\u001b[0m\u001b[0m\n\u001b[1;32m----> 2\u001b[1;33m \u001b[0mage_nxtyr\u001b[0m \u001b[1;33m=\u001b[0m \u001b[0mstudent_age\u001b[0m \u001b[1;33m+\u001b[0m \u001b[1;36m1\u001b[0m\u001b[1;33m\u001b[0m\u001b[0m\n\u001b[0m\u001b[0;32m      3\u001b[0m \u001b[0mprint\u001b[0m \u001b[1;33m(\u001b[0m\u001b[1;34m\"next year student age will be-\"\u001b[0m\u001b[1;33m,\u001b[0m  \u001b[0mage_nxtyr\u001b[0m\u001b[1;33m)\u001b[0m\u001b[1;33m\u001b[0m\u001b[0m\n",
      "\u001b[1;31mTypeError\u001b[0m: must be str, not int"
     ]
    }
   ],
   "source": [
    "student_age = input(\"enter student's age (interger): \")\n",
    "age_nxtyr = student_age + 1\n",
    "print (\"next year student age will be-\",  age_nxtyr)"
   ]
  },
  {
   "cell_type": "code",
   "execution_count": 17,
   "metadata": {},
   "outputs": [
    {
     "name": "stdout",
     "output_type": "stream",
     "text": [
      "enter student's age (interger): 7\n",
      "next year student age will be- 8\n"
     ]
    }
   ],
   "source": [
    "#student_age = input(\"enter student's age (interger): \")\n",
    "#age_nxtyr = int(student_age) + 1\n",
    "#print (\"next year student age will be-\",  age_nxtyr)\n",
    "\n",
    "     # //OR//\n",
    "student_age = int(input(\"enter student's age (interger): \"))\n",
    "age_nxtyr = student_age + 1\n",
    "print (\"next year student age will be-\",  age_nxtyr)"
   ]
  },
  {
   "cell_type": "code",
   "execution_count": 18,
   "metadata": {},
   "outputs": [
    {
     "name": "stdout",
     "output_type": "stream",
     "text": [
      "Enter the first number:56\n",
      "Enter the second number:56\n",
      "5656\n"
     ]
    }
   ],
   "source": [
    "num1 = input(\"Enter the first number:\")\n",
    "num2 = input(\"Enter the second number:\")\n",
    "\n",
    "print ((num1)+num2)"
   ]
  },
  {
   "cell_type": "code",
   "execution_count": 19,
   "metadata": {},
   "outputs": [
    {
     "name": "stdout",
     "output_type": "stream",
     "text": [
      "Enter the first number:56\n",
      "Enter the second number:56\n",
      "112\n"
     ]
    }
   ],
   "source": [
    "# rectifying the above prog\n",
    "num1 = input(\"Enter the first number:\")\n",
    "num2 = input(\"Enter the second number:\")\n",
    "\n",
    "print (int(num1)+int(num2))\n"
   ]
  },
  {
   "cell_type": "code",
   "execution_count": 20,
   "metadata": {},
   "outputs": [
    {
     "name": "stdout",
     "output_type": "stream",
     "text": [
      "Enter the first number:45\n",
      "Enter the second number:45\n",
      "90\n"
     ]
    }
   ],
   "source": [
    "num1 = int(input(\"Enter the first number:\"))\n",
    "num2 = int(input(\"Enter the second number:\"))\n",
    "\n",
    "print ((num1)+(num2))"
   ]
  },
  {
   "cell_type": "code",
   "execution_count": 22,
   "metadata": {},
   "outputs": [],
   "source": [
    "#if else\n",
    "# [ ] input a variable: age as digit and cast to int\n",
    "# if age greater than or equal to 12 then print message on age in 10 years \n",
    "# or else print message \"It is good to be\" age\n",
    "\n",
    "\n",
    "\n",
    "\n",
    "\n",
    "# [ ] input a number \n",
    "# - if number IS a digit string then cast to int\n",
    "# - print number \"greater than 100 is\" True/False\n",
    "# - if number is NOT a digit string then message the user that \"only int is accepted\"\n",
    "\n",
    "\n",
    "    "
   ]
  },
  {
   "cell_type": "code",
   "execution_count": 25,
   "metadata": {},
   "outputs": [
    {
     "name": "stdout",
     "output_type": "stream",
     "text": [
      "enter the your age:13\n",
      "age in ten years- 23\n"
     ]
    }
   ],
   "source": [
    "age = int(input(\"enter the your age:\"))\n",
    "\n",
    "if age >= 12:\n",
    "    print(\"age in ten years-\" , age + 10)\n",
    "else:\n",
    "    print(\"it is good to be-\", age)"
   ]
  },
  {
   "cell_type": "code",
   "execution_count": 5,
   "metadata": {},
   "outputs": [
    {
     "name": "stdout",
     "output_type": "stream",
     "text": [
      "give me a number: 102\n",
      "we have to cast our number 102\n"
     ]
    }
   ],
   "source": [
    "number1 = input(\"give me a number: \")\n",
    "\n",
    "if number1.isdigit():\n",
    "    print(\"we have to cast our number\", number1)\n",
    "elif int(number1)> 100:\n",
    "    print(\"True\")\n",
    "else:\n",
    "    print(\"only int is accepted\")"
   ]
  },
  {
   "cell_type": "code",
   "execution_count": null,
   "metadata": {},
   "outputs": [],
   "source": [
    "#Letter Guess\n",
    "#create letter_guess() function that gives user 3 guesses\n",
    "\n",
    "#takes a letter character argument for the answer letter\n",
    "#gets user input for letter guess\n",
    "#calls check_guess() with answer and guess\n",
    "#End letter_guess if\n",
    "#check_guess() equals True, return True\n",
    "#or after 3 failed attempts, return False\n",
    "# [ ] create letter_guess() function, call the function to test\n"
   ]
  },
  {
   "cell_type": "code",
   "execution_count": 9,
   "metadata": {},
   "outputs": [],
   "source": [
    "def check_guess(guess, ans_letter):\n",
    "    ans_letter = \"P\"\n",
    "    if guess == ans_letter:\n",
    "        return True\n",
    "    \n",
    "\n",
    "\n",
    "\n",
    "    \n",
    "    "
   ]
  },
  {
   "cell_type": "code",
   "execution_count": 8,
   "metadata": {},
   "outputs": [
    {
     "name": "stdout",
     "output_type": "stream",
     "text": [
      "which is the secret letterO\n"
     ]
    }
   ],
   "source": [
    "def letter_guess(input(guess)):\n",
    "    if guess =="
   ]
  },
  {
   "cell_type": "code",
   "execution_count": null,
   "metadata": {},
   "outputs": [],
   "source": [
    " n = int(input(\"give me a number n:\"))\n",
    "    if n%2 = 1:\n",
    "        print (\"wierd\")"
   ]
  },
  {
   "cell_type": "code",
   "execution_count": null,
   "metadata": {},
   "outputs": [],
   "source": [
    "if n%2 = 1.0\n"
   ]
  },
  {
   "cell_type": "code",
   "execution_count": 16,
   "metadata": {},
   "outputs": [
    {
     "data": {
      "text/plain": [
       "1"
      ]
     },
     "execution_count": 16,
     "metadata": {},
     "output_type": "execute_result"
    }
   ],
   "source": [
    "1%2 "
   ]
  },
  {
   "cell_type": "code",
   "execution_count": 1,
   "metadata": {},
   "outputs": [
    {
     "name": "stdout",
     "output_type": "stream",
     "text": [
      "number is 1\n"
     ]
    }
   ],
   "source": [
    "# Nested conditionals\n",
    "# we have a number that we assume will either be 1 2 or 3 \n",
    "# for the code below\n",
    "\n",
    "number =1\n",
    "\n",
    "if number >= 2:\n",
    "    if number>2:\n",
    "        print(\"number is 3\")\n",
    "    else:\n",
    "        print(\"number is 2\")\n",
    "else:\n",
    "    print(\"number is 1\")"
   ]
  },
  {
   "cell_type": "code",
   "execution_count": 2,
   "metadata": {},
   "outputs": [
    {
     "name": "stdout",
     "output_type": "stream",
     "text": [
      "number is 3\n"
     ]
    }
   ],
   "source": [
    "# let us check for other number\n",
    "\n",
    "\n",
    "number =3\n",
    "\n",
    "if number >= 2:\n",
    "    if number>2:\n",
    "        print(\"number is 3\")\n",
    "    else:\n",
    "        print(\"number is 2\")\n",
    "else:\n",
    "    print(\"number is 1\")"
   ]
  },
  {
   "cell_type": "code",
   "execution_count": 4,
   "metadata": {},
   "outputs": [
    {
     "name": "stdout",
     "output_type": "stream",
     "text": [
      "'c' for cheese or 'v' for veggies: v\n",
      "here is your veggie special\n"
     ]
    }
   ],
   "source": [
    "sandwich_type = input(\"'c' for cheese or 'v' for veggies: \" )\n",
    "\n",
    "if sandwich_type.lower() == 'c':\n",
    "    cheese_type = input(\"'c' for cheddar and 'm' for manchego\")\n",
    "    if cheese_type.lower()=='c':\n",
    "        print(\"here is your cheddar cheese sandwich\")\n",
    "    else:\n",
    "        print(\"here is your manchego cheese sandwich\")\n",
    "else:\n",
    "    print(\"here is your veggie special\")"
   ]
  },
  {
   "cell_type": "code",
   "execution_count": 6,
   "metadata": {},
   "outputs": [
    {
     "name": "stdout",
     "output_type": "stream",
     "text": [
      "STUDENT NAME\t\tAGE\n",
      "hiroto yamaguchi \t17\n"
     ]
    }
   ],
   "source": [
    "# Escape sequences\n",
    "student_name = \"hiroto yamaguchi\"\n",
    "student_age = 17\n",
    "\n",
    "print(\"STUDENT NAME\\t\\tAGE\")\n",
    "print(student_name,'\\t' +str(student_age))"
   ]
  },
  {
   "cell_type": "code",
   "execution_count": 8,
   "metadata": {},
   "outputs": [
    {
     "name": "stdout",
     "output_type": "stream",
     "text": [
      "\"quotes in quotes\"\n"
     ]
    }
   ],
   "source": [
    "print(\"\\\"quotes in quotes\\\"\")"
   ]
  },
  {
   "cell_type": "code",
   "execution_count": 12,
   "metadata": {},
   "outputs": [
    {
     "name": "stdout",
     "output_type": "stream",
     "text": [
      "hello world\n",
      "and this world is doomed\n"
     ]
    }
   ],
   "source": [
    "print(\"hello world\"'\\n'\"and this world is doomed\")"
   ]
  },
  {
   "cell_type": "code",
   "execution_count": 13,
   "metadata": {},
   "outputs": [
    {
     "name": "stdout",
     "output_type": "stream",
     "text": [
      "I've said \"save your notebook,\"so let's do it\n"
     ]
    }
   ],
   "source": [
    "print(\"I\\'ve said \\\"save your notebook,\\\"so let\\'s do it\")"
   ]
  },
  {
   "cell_type": "code",
   "execution_count": 14,
   "metadata": {},
   "outputs": [
    {
     "name": "stdout",
     "output_type": "stream",
     "text": [
      "I 've said \"save the notebook\", so let's do it\n"
     ]
    }
   ],
   "source": [
    "print(\"I \\'ve said \\\"save the notebook\\\", so let's do it\")"
   ]
  },
  {
   "cell_type": "code",
   "execution_count": 1,
   "metadata": {},
   "outputs": [
    {
     "name": "stdout",
     "output_type": "stream",
     "text": [
      "guess the number 1 to 5:2\n",
      "2 is incorrect\n",
      "\n",
      "guess the number 1 to 5:1\n",
      "1 is incorrect\n",
      "\n",
      "guess the number 1 to 5:\n",
      " is incorrect\n",
      "\n",
      "guess the number 1 to 5:3\n",
      "3 is incorrect\n",
      "\n",
      "guess the number 1 to 5:4\n",
      "4 is incorrect\n",
      "\n",
      "guess the number 1 to 5:5\n",
      "yes 5 is correct\n",
      "\n"
     ]
    }
   ],
   "source": [
    "# while loop \n",
    "\n",
    "number_guess = '0'\n",
    "secret_number = '5'\n",
    "\n",
    "while True:\n",
    "    number_guess = input(\"guess the number 1 to 5:\")\n",
    "    if number_guess == secret_number:\n",
    "        print(\"yes\", number_guess, \"is correct\\n\")\n",
    "        break\n",
    "    else:\n",
    "        print(number_guess, \"is incorrect\\n\")\n",
    "    "
   ]
  },
  {
   "cell_type": "code",
   "execution_count": 2,
   "metadata": {},
   "outputs": [
    {
     "name": "stdout",
     "output_type": "stream",
     "text": [
      "enter a single word name: abhijeet\n",
      "welcome abhijeet!\n"
     ]
    }
   ],
   "source": [
    "while True:\n",
    "    f_name = input(\"enter a single word name: \")\n",
    "    \n",
    "    if f_name.isalpha():\n",
    "        break\n",
    "    else:\n",
    "        print(f_name, \"is not a single word\\n\")\n",
    "print(\"welcome\", f_name +\"!\")\n",
    "        "
   ]
  },
  {
   "cell_type": "code",
   "execution_count": 8,
   "metadata": {},
   "outputs": [
    {
     "name": "stdout",
     "output_type": "stream",
     "text": [
      "seat count: 1\n",
      "seat count: 2\n",
      "seat count: 3\n",
      "seat count: 4\n",
      "no seats remaining\n"
     ]
    }
   ],
   "source": [
    "seat_count = 0\n",
    "\n",
    "while True:\n",
    "    seat_count = seat_count + 1\n",
    "    print(\"seat count:\", seat_count)\n",
    "    \n",
    "    if seat_count>= 4:\n",
    "        print(\"no seats remaining\")\n",
    "        break\n",
    "        "
   ]
  },
  {
   "cell_type": "code",
   "execution_count": 12,
   "metadata": {},
   "outputs": [
    {
     "name": "stdout",
     "output_type": "stream",
     "text": [
      "Remaining seats: 4\n",
      "Remaining seats: 3\n",
      "Remaining seats: 2\n",
      "Remaining seats: 1\n",
      "No seat available\n"
     ]
    }
   ],
   "source": [
    "seat_count = 4\n",
    "\n",
    "while True:\n",
    "    print (\"Remaining seats:\", seat_count)\n",
    "    seat_count = seat_count - 1\n",
    "    \n",
    "    if seat_count <= 0:\n",
    "        print(\"No seat available\")\n",
    "        break"
   ]
  },
  {
   "cell_type": "code",
   "execution_count": 15,
   "metadata": {},
   "outputs": [
    {
     "name": "stdout",
     "output_type": "stream",
     "text": [
      "5 !\n",
      "4 !\n",
      "3 !\n",
      "2 !\n",
      "1 !\n",
      "\n",
      "IGNITION\n"
     ]
    }
   ],
   "source": [
    "#while with boolean comparison\n",
    "\n",
    "greet_count = 5\n",
    "\n",
    "while greet_count > 0:\n",
    "    print(greet_count, '!')\n",
    "    greet_count -= 1\n",
    "    \n",
    "print('\\nIGNITION')"
   ]
  },
  {
   "cell_type": "code",
   "execution_count": 16,
   "metadata": {},
   "outputs": [
    {
     "name": "stdout",
     "output_type": "stream",
     "text": [
      "seat count: 0\n",
      "seat count: 1\n",
      "seat count: 2\n",
      "seat count: 3\n",
      "seat count: 4\n"
     ]
    }
   ],
   "source": [
    "seat_count = 0\n",
    "\n",
    "while seat_count <= 4:\n",
    "    print(\"seat count:\", seat_count)\n",
    "    seat_count += 1\n",
    "    "
   ]
  },
  {
   "cell_type": "code",
   "execution_count": 1,
   "metadata": {},
   "outputs": [
    {
     "name": "stdout",
     "output_type": "stream",
     "text": [
      "sorry can't hear, please yell the message:Hi\n",
      "sorry can't hear, please yell the message:HI\n",
      "message: \" HI\" recieved\n"
     ]
    }
   ],
   "source": [
    "#while with boolean string test\n",
    "\n",
    "message = \"hi\"\n",
    "\n",
    "while message.isupper() != True:\n",
    "    message = input(\"sorry can\\'t hear, please yell the message:\")\n",
    "\n",
    "print('message: \" '+ message +'\" recieved')"
   ]
  },
  {
   "cell_type": "code",
   "execution_count": 1,
   "metadata": {},
   "outputs": [],
   "source": [
    "# book store problem\n",
    "#Program: bookstore()\n",
    "#create and test bookstore()\n",
    "\n",
    "#bookstore() takes 2 string arguments: book & price\n",
    "#bookstore returns a string in sentence form\n",
    "#bookstore() should call title_it_rtn() with book parameter\n",
    "#gather input for book_entry and price_entry to use in calling bookstore()\n",
    "#print the return value of bookstore()\n",
    "#example of output:Title: The Adventures Of Sherlock Holmes, costs $12.99"
   ]
  },
  {
   "cell_type": "code",
   "execution_count": 7,
   "metadata": {},
   "outputs": [
    {
     "name": "stdout",
     "output_type": "stream",
     "text": [
      "which book are you looking for:? fountainhead\n",
      "how much is the price of the book:? 23\n",
      "Title:Fountainhead,  cost is $:23\n"
     ]
    }
   ],
   "source": [
    "book_entry = input(\"which book are you looking for:? \")\n",
    "price_entry = input(\"how much is the price of the book:? \")\n",
    "\n",
    "def book_store(book,price):\n",
    "    return(\"Title:\" + book.capitalize() + \",\" + \"  cost is $:\"+ price)\n",
    "\n",
    "print(book_store(book_entry, price_entry))\n",
    "    \n",
    "    "
   ]
  },
  {
   "cell_type": "code",
   "execution_count": 12,
   "metadata": {},
   "outputs": [
    {
     "name": "stdout",
     "output_type": "stream",
     "text": [
      "Hi welcome to the sandwich shop, Please select a sandwich\n",
      " 'c' for cheese or 'v' for veggie specialv\n",
      "\n",
      "Here is your Veggie Special. Thank you.\n",
      "\n",
      "Goodbye!\n"
     ]
    }
   ],
   "source": [
    "# sandwich peoblem\n",
    "\n",
    "print(\"Hi welcome to the sandwich shop, Please select a sandwich\")\n",
    "sandwich_type = input(\" 'c' for cheese or 'v' for veggie special\")\n",
    "print()\n",
    "\n",
    "if sandwich_type.lower() == 'c':\n",
    "    print(\"please select the cheese.\")\n",
    "    cheese_type = input( \"'c' for cheddar and 'm' for machengo:\")\n",
    "    print()\n",
    "    if cheese_type.lower() == 'c':\n",
    "        print(\"here is your cheddar cheese sandwich. Thank you\")\n",
    "    elif cheese_type.lower()=='m':\n",
    "        print(\"here is your machengo cheese sandwich. Thank you\")\n",
    "    else:\n",
    "        print(\" Sorry we do not have \", cheese_type, \"choice today\" )\n",
    "        \n",
    "elif sandwich_type.lower() == \"v\":\n",
    "    print(\"Here is your Veggie Special. Thank you.\")\n",
    "        \n",
    "else:\n",
    "    print(\"Sorry, we don't have\", sandwich_type, \"choice today.\")\n",
    "print()\n",
    "print(\"Goodbye!\")\n",
    "        \n",
    "    \n"
   ]
  },
  {
   "cell_type": "code",
   "execution_count": null,
   "metadata": {},
   "outputs": [],
   "source": []
  }
 ],
 "metadata": {
  "kernelspec": {
   "display_name": "Python 3",
   "language": "python",
   "name": "python3"
  },
  "language_info": {
   "codemirror_mode": {
    "name": "ipython",
    "version": 3
   },
   "file_extension": ".py",
   "mimetype": "text/x-python",
   "name": "python",
   "nbconvert_exporter": "python",
   "pygments_lexer": "ipython3",
   "version": "3.6.4"
  }
 },
 "nbformat": 4,
 "nbformat_minor": 2
}
